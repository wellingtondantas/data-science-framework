{
 "cells": [
  {
   "cell_type": "markdown",
   "metadata": {},
   "source": [
    "# Model Experimentation Tracking (MLFow)"
   ]
  },
  {
   "cell_type": "markdown",
   "metadata": {},
   "source": [
    "### Record and query experiments: Code, data, config, results, parameters, metrics\n",
    "\n",
    "![Data](images/MLflow_Model_experimentation.png)"
   ]
  },
  {
   "cell_type": "markdown",
   "metadata": {
    "id": "FQr7W0gHGj9D"
   },
   "source": [
    "## Import Packages"
   ]
  },
  {
   "cell_type": "code",
   "execution_count": 1,
   "metadata": {
    "colab": {
     "base_uri": "https://localhost:8080/",
     "height": 42
    },
    "executionInfo": {
     "elapsed": 4760,
     "status": "ok",
     "timestamp": 1555806967841,
     "user": {
      "displayName": "Vivek Kumar",
      "photoUrl": "https://lh6.googleusercontent.com/-cP-Bpvpzsbc/AAAAAAAAAAI/AAAAAAAAD78/l6XcNlPEAnc/s64/photo.jpg",
      "userId": "15067720337527944902"
     },
     "user_tz": -330
    },
    "id": "wSeHWATZsddI",
    "outputId": "bb370675-82bf-4829-815f-49404031ec9f"
   },
   "outputs": [],
   "source": [
    "# Data analysis library\n",
    "import numpy as np\n",
    "import pandas as pd\n",
    "\n",
    "# Machine Learning library\n",
    "import sklearn\n",
    "from sklearn.metrics import roc_curve, auc, accuracy_score, plot_confusion_matrix, plot_roc_curve\n",
    "from sklearn.preprocessing import LabelEncoder\n",
    "from sklearn.model_selection import train_test_split\n",
    "from sklearn.linear_model import LogisticRegression\n",
    "from sklearn.tree import DecisionTreeClassifier\n",
    "from sklearn.ensemble import RandomForestClassifier, GradientBoostingClassifier\n",
    "import lightgbm as lgb\n",
    "from lightgbm import LGBMClassifier\n",
    "from lightgbm import plot_importance, plot_metric\n",
    "\n",
    "# Model experimentation library\n",
    "import mlflow\n",
    "import mlflow.sklearn\n",
    "from mlflow.tracking import MlflowClient\n",
    "\n",
    "# Plotting library\n",
    "import matplotlib.pyplot as plt\n",
    "import warnings\n",
    "warnings.filterwarnings(\"ignore\")"
   ]
  },
  {
   "cell_type": "code",
   "execution_count": 2,
   "metadata": {},
   "outputs": [
    {
     "name": "stdout",
     "output_type": "stream",
     "text": [
      "Numpy version is 1.19.4\n",
      "Pandas version is 1.1.5\n",
      "sklearn version is 0.23.2\n",
      "mlflow version is 1.12.1\n"
     ]
    }
   ],
   "source": [
    "print(f'Numpy version is {np.__version__}')\n",
    "print(f'Pandas version is {pd.__version__}')\n",
    "print(f'sklearn version is {sklearn.__version__}')\n",
    "print(f'mlflow version is {mlflow.__version__}')"
   ]
  },
  {
   "cell_type": "markdown",
   "metadata": {},
   "source": [
    "## Download data \n",
    "\n",
    "### Campus Recruitment Dataset\n",
    "#### Academic and Employability Factors influencing placement\n",
    "\n",
    "https://www.kaggle.com/benroshan/factors-affecting-campus-placement"
   ]
  },
  {
   "cell_type": "markdown",
   "metadata": {
    "id": "zNvnWiStLMT4"
   },
   "source": [
    "## Load data"
   ]
  },
  {
   "cell_type": "code",
   "execution_count": 3,
   "metadata": {
    "colab": {
     "base_uri": "https://localhost:8080/",
     "height": 50
    },
    "executionInfo": {
     "elapsed": 4689,
     "status": "ok",
     "timestamp": 1555809124644,
     "user": {
      "displayName": "Vivek Kumar",
      "photoUrl": "https://lh6.googleusercontent.com/-cP-Bpvpzsbc/AAAAAAAAAAI/AAAAAAAAD78/l6XcNlPEAnc/s64/photo.jpg",
      "userId": "15067720337527944902"
     },
     "user_tz": -330
    },
    "id": "Z1EBPLhVNnZO",
    "outputId": "8cbe010c-4d26-4021-c725-73350fe14cb3"
   },
   "outputs": [
    {
     "name": "stdout",
     "output_type": "stream",
     "text": [
      "The dataset has 215 samples with 15 features.\n"
     ]
    }
   ],
   "source": [
    "## Files\n",
    "data_file = '../data/placement_data/Placement_Data_Full_Class.csv'\n",
    "\n",
    "# Load train loan dataset \n",
    "try:\n",
    "    data = pd.read_csv(data_file)\n",
    "    print(\"The dataset has {} samples with {} features.\".format(*data.shape))\n",
    "except:\n",
    "    print(\"The dataset could not be loaded. Is the dataset missing?\")"
   ]
  },
  {
   "cell_type": "markdown",
   "metadata": {
    "id": "THxhQRYOOxkZ"
   },
   "source": [
    "## Introduction To The Data"
   ]
  },
  {
   "cell_type": "code",
   "execution_count": 4,
   "metadata": {
    "colab": {
     "base_uri": "https://localhost:8080/",
     "height": 246
    },
    "executionInfo": {
     "elapsed": 2730,
     "status": "ok",
     "timestamp": 1555756161637,
     "user": {
      "displayName": "Vivek Kumar",
      "photoUrl": "https://lh6.googleusercontent.com/-cP-Bpvpzsbc/AAAAAAAAAAI/AAAAAAAAD78/l6XcNlPEAnc/s64/photo.jpg",
      "userId": "15067720337527944902"
     },
     "user_tz": -330
    },
    "id": "ImRdfUXusm7O",
    "outputId": "bcae0e64-9146-4df1-d98a-5f2c42c05789"
   },
   "outputs": [
    {
     "data": {
      "text/html": [
       "<div>\n",
       "<style scoped>\n",
       "    .dataframe tbody tr th:only-of-type {\n",
       "        vertical-align: middle;\n",
       "    }\n",
       "\n",
       "    .dataframe tbody tr th {\n",
       "        vertical-align: top;\n",
       "    }\n",
       "\n",
       "    .dataframe thead th {\n",
       "        text-align: right;\n",
       "    }\n",
       "</style>\n",
       "<table border=\"1\" class=\"dataframe\">\n",
       "  <thead>\n",
       "    <tr style=\"text-align: right;\">\n",
       "      <th></th>\n",
       "      <th>sl_no</th>\n",
       "      <th>gender</th>\n",
       "      <th>ssc_p</th>\n",
       "      <th>ssc_b</th>\n",
       "      <th>hsc_p</th>\n",
       "      <th>hsc_b</th>\n",
       "      <th>hsc_s</th>\n",
       "      <th>degree_p</th>\n",
       "      <th>degree_t</th>\n",
       "      <th>workex</th>\n",
       "      <th>etest_p</th>\n",
       "      <th>specialisation</th>\n",
       "      <th>mba_p</th>\n",
       "      <th>status</th>\n",
       "      <th>salary</th>\n",
       "    </tr>\n",
       "  </thead>\n",
       "  <tbody>\n",
       "    <tr>\n",
       "      <th>0</th>\n",
       "      <td>1</td>\n",
       "      <td>M</td>\n",
       "      <td>67.00</td>\n",
       "      <td>Others</td>\n",
       "      <td>91.00</td>\n",
       "      <td>Others</td>\n",
       "      <td>Commerce</td>\n",
       "      <td>58.00</td>\n",
       "      <td>Sci&amp;Tech</td>\n",
       "      <td>No</td>\n",
       "      <td>55.0</td>\n",
       "      <td>Mkt&amp;HR</td>\n",
       "      <td>58.80</td>\n",
       "      <td>Placed</td>\n",
       "      <td>270000.0</td>\n",
       "    </tr>\n",
       "    <tr>\n",
       "      <th>1</th>\n",
       "      <td>2</td>\n",
       "      <td>M</td>\n",
       "      <td>79.33</td>\n",
       "      <td>Central</td>\n",
       "      <td>78.33</td>\n",
       "      <td>Others</td>\n",
       "      <td>Science</td>\n",
       "      <td>77.48</td>\n",
       "      <td>Sci&amp;Tech</td>\n",
       "      <td>Yes</td>\n",
       "      <td>86.5</td>\n",
       "      <td>Mkt&amp;Fin</td>\n",
       "      <td>66.28</td>\n",
       "      <td>Placed</td>\n",
       "      <td>200000.0</td>\n",
       "    </tr>\n",
       "    <tr>\n",
       "      <th>2</th>\n",
       "      <td>3</td>\n",
       "      <td>M</td>\n",
       "      <td>65.00</td>\n",
       "      <td>Central</td>\n",
       "      <td>68.00</td>\n",
       "      <td>Central</td>\n",
       "      <td>Arts</td>\n",
       "      <td>64.00</td>\n",
       "      <td>Comm&amp;Mgmt</td>\n",
       "      <td>No</td>\n",
       "      <td>75.0</td>\n",
       "      <td>Mkt&amp;Fin</td>\n",
       "      <td>57.80</td>\n",
       "      <td>Placed</td>\n",
       "      <td>250000.0</td>\n",
       "    </tr>\n",
       "    <tr>\n",
       "      <th>3</th>\n",
       "      <td>4</td>\n",
       "      <td>M</td>\n",
       "      <td>56.00</td>\n",
       "      <td>Central</td>\n",
       "      <td>52.00</td>\n",
       "      <td>Central</td>\n",
       "      <td>Science</td>\n",
       "      <td>52.00</td>\n",
       "      <td>Sci&amp;Tech</td>\n",
       "      <td>No</td>\n",
       "      <td>66.0</td>\n",
       "      <td>Mkt&amp;HR</td>\n",
       "      <td>59.43</td>\n",
       "      <td>Not Placed</td>\n",
       "      <td>NaN</td>\n",
       "    </tr>\n",
       "    <tr>\n",
       "      <th>4</th>\n",
       "      <td>5</td>\n",
       "      <td>M</td>\n",
       "      <td>85.80</td>\n",
       "      <td>Central</td>\n",
       "      <td>73.60</td>\n",
       "      <td>Central</td>\n",
       "      <td>Commerce</td>\n",
       "      <td>73.30</td>\n",
       "      <td>Comm&amp;Mgmt</td>\n",
       "      <td>No</td>\n",
       "      <td>96.8</td>\n",
       "      <td>Mkt&amp;Fin</td>\n",
       "      <td>55.50</td>\n",
       "      <td>Placed</td>\n",
       "      <td>425000.0</td>\n",
       "    </tr>\n",
       "  </tbody>\n",
       "</table>\n",
       "</div>"
      ],
      "text/plain": [
       "   sl_no gender  ssc_p    ssc_b  hsc_p    hsc_b     hsc_s  degree_p  \\\n",
       "0      1      M  67.00   Others  91.00   Others  Commerce     58.00   \n",
       "1      2      M  79.33  Central  78.33   Others   Science     77.48   \n",
       "2      3      M  65.00  Central  68.00  Central      Arts     64.00   \n",
       "3      4      M  56.00  Central  52.00  Central   Science     52.00   \n",
       "4      5      M  85.80  Central  73.60  Central  Commerce     73.30   \n",
       "\n",
       "    degree_t workex  etest_p specialisation  mba_p      status    salary  \n",
       "0   Sci&Tech     No     55.0         Mkt&HR  58.80      Placed  270000.0  \n",
       "1   Sci&Tech    Yes     86.5        Mkt&Fin  66.28      Placed  200000.0  \n",
       "2  Comm&Mgmt     No     75.0        Mkt&Fin  57.80      Placed  250000.0  \n",
       "3   Sci&Tech     No     66.0         Mkt&HR  59.43  Not Placed       NaN  \n",
       "4  Comm&Mgmt     No     96.8        Mkt&Fin  55.50      Placed  425000.0  "
      ]
     },
     "execution_count": 4,
     "metadata": {},
     "output_type": "execute_result"
    }
   ],
   "source": [
    "data.head()"
   ]
  },
  {
   "cell_type": "code",
   "execution_count": 5,
   "metadata": {
    "colab": {
     "base_uri": "https://localhost:8080/",
     "height": 70
    },
    "executionInfo": {
     "elapsed": 774,
     "status": "ok",
     "timestamp": 1555469230652,
     "user": {
      "displayName": "Vivek Kumar",
      "photoUrl": "https://lh6.googleusercontent.com/-cP-Bpvpzsbc/AAAAAAAAAAI/AAAAAAAAD78/l6XcNlPEAnc/s64/photo.jpg",
      "userId": "15067720337527944902"
     },
     "user_tz": -330
    },
    "id": "qzxmfXGtJ1Jx",
    "outputId": "cfe529f5-602d-480c-8aa3-5de57a21e997"
   },
   "outputs": [
    {
     "data": {
      "text/plain": [
       "Placed        148\n",
       "Not Placed     67\n",
       "Name: status, dtype: int64"
      ]
     },
     "execution_count": 5,
     "metadata": {},
     "output_type": "execute_result"
    }
   ],
   "source": [
    "data['status'].value_counts()"
   ]
  },
  {
   "cell_type": "markdown",
   "metadata": {},
   "source": [
    "## Start MLflow UI"
   ]
  },
  {
   "cell_type": "code",
   "execution_count": 6,
   "metadata": {},
   "outputs": [
    {
     "name": "stdout",
     "output_type": "stream",
     "text": [
      "^C\n"
     ]
    }
   ],
   "source": [
    "!mlflow ui"
   ]
  },
  {
   "cell_type": "markdown",
   "metadata": {},
   "source": [
    "## Initialize MLflow\n",
    "\n",
    "**Experiments** : You can organize runs into experiments, which group together runs for a specific task. \n",
    "\n",
    "**Tracking URI**: MLflow runs can be recorded to local files, to a database, or remotely to a tracking server. By default, the MLflow Python API logs runs locally to files in an mlruns directory wherever you ran your program\n",
    "\n",
    "#### MLflow Tracking Servers \n",
    "MLflow tracking server has two components for storage: a **backend store** and an **artifact store**\n",
    "\n",
    "The **backend store** is where MLflow Tracking Server stores experiment and run metadata as well as params, metrics, and tags for runs. MLflow supports two types of backend stores: **file store and database-backed store**.\n",
    "\n",
    "The **artifact store** is a location suitable for large data (such as an S3 bucket or shared NFS file system) and is where clients log their artifact output (for example, models).\n",
    "\n",
    "    Amazon S3 and S3-compatible storage\n",
    "    Azure Blob Storage\n",
    "    Google Cloud Storage\n",
    "    FTP server\n",
    "    SFTP Server\n",
    "    NFS\n",
    "    HDFS"
   ]
  },
  {
   "cell_type": "code",
   "execution_count": 7,
   "metadata": {},
   "outputs": [],
   "source": [
    "experiment_name = \"campus_recruitment_experiments_v1\"\n",
    "artifact_repository = './mlflow-run'\n",
    "\n",
    "# Provide uri and connect to your tracking server\n",
    "mlflow.set_tracking_uri('http://127.0.0.1:5000/')\n",
    "\n",
    "# Initialize MLflow client\n",
    "client = MlflowClient()\n",
    "\n",
    "# If experiment doesn't exist then it will create new\n",
    "# else it will take the experiment id and will use to to run the experiments\n",
    "try:\n",
    "    # Create experiment \n",
    "    experiment_id = client.create_experiment(experiment_name, artifact_location=artifact_repository)\n",
    "except:\n",
    "    # Get the experiment id if it already exists\n",
    "    experiment_id = client.get_experiment_by_name(experiment_name).experiment_id"
   ]
  },
  {
   "cell_type": "markdown",
   "metadata": {},
   "source": [
    "## Prepare data for model training"
   ]
  },
  {
   "cell_type": "code",
   "execution_count": 8,
   "metadata": {},
   "outputs": [],
   "source": [
    "exclude_feature = ['sl_no', 'salary', 'status']\n",
    "# Define Target columns\n",
    "target = data['status'].map({\"Placed\": 0 , \"Not Placed\": 1})\n",
    "\n",
    "# Define numeric and categorical features\n",
    "numeric_columns = data.select_dtypes(include=['int64', 'float64']).columns.tolist()\n",
    "categorical_columns = data.select_dtypes(include=['object']).columns.tolist()\n",
    "numeric_features = [col for col in numeric_columns if col not in exclude_feature]\n",
    "categorical_features = [col for col in categorical_columns if col not in exclude_feature]\n",
    "\n",
    "# Define final feature list for training and validation\n",
    "features = numeric_features + categorical_features\n",
    "# Final data for training and validation\n",
    "data = data[features]\n",
    "data = data.fillna(0)\n",
    "\n",
    "# Split data in train and vlaidation\n",
    "X_train, X_valid, y_train, y_valid = train_test_split(data, target, test_size=0.15, random_state=10)\n",
    "\n",
    "# Perform label encoding for categorical variable\n",
    "for feature in categorical_features:\n",
    "    le = LabelEncoder()\n",
    "    le.fit(X_train.loc[:, feature])\n",
    "    X_train.loc[:, feature] = le.transform(X_train.loc[:, feature])\n",
    "    X_valid.loc[:, feature] = le.transform(X_valid.loc[:, feature])"
   ]
  },
  {
   "cell_type": "markdown",
   "metadata": {},
   "source": [
    "## Define MLFlow model experimentation function"
   ]
  },
  {
   "cell_type": "code",
   "execution_count": 9,
   "metadata": {},
   "outputs": [],
   "source": [
    "def model_experimentation(classifier, param, model_name, run_name):\n",
    "    # Launching Multiple Runs in One Program.This is easy to do because the ActiveRun object returned by mlflow.start_run() is a \n",
    "    # Python context manager. You can “scope” each run to just one block of code as follows:\n",
    "    with mlflow.start_run(experiment_id=experiment_id, run_name=run_name) as run:\n",
    "        # Get run id \n",
    "        run_id = run.info.run_uuid\n",
    "        \n",
    "        # Provide brief notes about the run\n",
    "        MlflowClient().set_tag(run_id,\n",
    "                               \"mlflow.note.content\",\n",
    "                               \"This is experiment for exploring different machine learning models for Campus Recruitment Dataset\")\n",
    "\n",
    "        # To enable autologging for scikit-learn estimators.\n",
    "        # 1) Log estimator parameters\n",
    "        # 2) Log common metrics for classifier\n",
    "        # 3) Log model Artifacts\n",
    "        mlflow.sklearn.autolog()\n",
    "\n",
    "        # Define custom tag\n",
    "        tags = {\"Application\": \"Payment Monitoring Platform\",\n",
    "                \"release.candidate\": \"PMP\",\n",
    "                \"release.version\": \"2.2.0\"}\n",
    "        \n",
    "        # Set Tag\n",
    "        mlflow.set_tags(tags)\n",
    "                        \n",
    "        # Log python environment details\n",
    "        mlflow.log_artifact('requirements.txt')\n",
    "        \n",
    "        # Perform model training\n",
    "        clf = classifier(**param)\n",
    "        clf.fit(X_train, y_train)\n",
    "\n",
    "        # Perform model evaluation \n",
    "        valid_prediction = clf.predict_proba(X_valid)[:, 1]\n",
    "        fpr, tpr, thresholds = roc_curve(y_valid, valid_prediction)\n",
    "        roc_auc = auc(fpr, tpr) # compute area under the curve\n",
    "        print(\"=====================================\")\n",
    "        print(\"Validation AUC:{}\".format(roc_auc))\n",
    "        print(\"=====================================\")\n",
    "        \n",
    "        # log metrics\n",
    "        mlflow.log_metrics({\"Validation_AUC\": roc_auc})\n",
    "\n",
    "        # Plot and save metrics details    \n",
    "        plot_confusion_matrix(clf, X_valid, y_valid, \n",
    "                              display_labels=['Placed', 'Not Placed'],\n",
    "                              cmap='magma')\n",
    "        plt.title('Confusion Matrix')\n",
    "        filename = f'./images/{model_name}_validation_confusion_matrix.png'\n",
    "        plt.savefig(filename)\n",
    "        # log model artifacts\n",
    "        mlflow.log_artifact(filename) \n",
    "\n",
    "        # Plot and save AUC details  \n",
    "        plot_roc_curve(clf, X_valid, y_valid, name='Validation')\n",
    "        plt.title('ROC AUC Curve')\n",
    "        filename = f'./images/{model_name}_validation_roc_curve.png'\n",
    "        plt.savefig(filename)\n",
    "        # log model artifacts\n",
    "        mlflow.log_artifact(filename) "
   ]
  },
  {
   "cell_type": "markdown",
   "metadata": {},
   "source": [
    "## Logistic Regression Training and evaluation + MLFlow for model tracking"
   ]
  },
  {
   "cell_type": "code",
   "execution_count": 10,
   "metadata": {},
   "outputs": [
    {
     "name": "stdout",
     "output_type": "stream",
     "text": [
      "=====================================\n",
      "Validation AUC:0.8909774436090225\n",
      "=====================================\n"
     ]
    },
    {
     "data": {
      "image/png": "[encoded data removed]",
      "text/plain": [
       "<Figure size 432x288 with 2 Axes>"
      ]
     },
     "metadata": {
      "needs_background": "light"
     },
     "output_type": "display_data"
    },
    {
     "data": {
      "image/png": "[encoded data removed]",
      "text/plain": [
       "<Figure size 432x288 with 1 Axes>"
      ]
     },
     "metadata": {
      "needs_background": "light"
     },
     "output_type": "display_data"
    }
   ],
   "source": [
    "classifier = LogisticRegression\n",
    "param = {\"C\":1, \"random_state\":20}\n",
    "model_name = 'Lt'\n",
    "run_name = 'LogisticRegression_model'\n",
    "model_experimentation(classifier, param, model_name, run_name)"
   ]
  },
  {
   "cell_type": "markdown",
   "metadata": {},
   "source": [
    "## Decision Tree Training and evaluation + MLFlow for model tracking"
   ]
  },
  {
   "cell_type": "code",
   "execution_count": 11,
   "metadata": {},
   "outputs": [
    {
     "name": "stdout",
     "output_type": "stream",
     "text": [
      "=====================================\n",
      "Validation AUC:0.8571428571428572\n",
      "=====================================\n"
     ]
    },
    {
     "data": {
      "image/png": "[encoded data removed]",
      "text/plain": [
       "<Figure size 432x288 with 2 Axes>"
      ]
     },
     "metadata": {
      "needs_background": "light"
     },
     "output_type": "display_data"
    },
    {
     "data": {
      "image/png": "[encoded data removed]",
      "text/plain": [
       "<Figure size 432x288 with 1 Axes>"
      ]
     },
     "metadata": {
      "needs_background": "light"
     },
     "output_type": "display_data"
    }
   ],
   "source": [
    "classifier = DecisionTreeClassifier\n",
    "param = {\"max_depth\":3, \"random_state\":20}\n",
    "model_name = 'dt'\n",
    "run_name = 'DecisionTree_model'\n",
    "model_experimentation(classifier, param, model_name, run_name)"
   ]
  },
  {
   "cell_type": "markdown",
   "metadata": {},
   "source": [
    "## Random Forest Training and evaluation + MLFlow for model tracking"
   ]
  },
  {
   "cell_type": "code",
   "execution_count": 12,
   "metadata": {},
   "outputs": [
    {
     "name": "stdout",
     "output_type": "stream",
     "text": [
      "=====================================\n",
      "Validation AUC:0.887218045112782\n",
      "=====================================\n"
     ]
    },
    {
     "data": {
      "image/png": "[encoded data removed]",
      "text/plain": [
       "<Figure size 432x288 with 2 Axes>"
      ]
     },
     "metadata": {
      "needs_background": "light"
     },
     "output_type": "display_data"
    },
    {
     "data": {
      "image/png": "[encoded data removed]",
      "text/plain": [
       "<Figure size 432x288 with 1 Axes>"
      ]
     },
     "metadata": {
      "needs_background": "light"
     },
     "output_type": "display_data"
    }
   ],
   "source": [
    "classifier = RandomForestClassifier\n",
    "param = {\"max_depth\":3, \"random_state\":20}\n",
    "model_name = 'rf'\n",
    "run_name = 'randomForest_model'\n",
    "model_experimentation(classifier, param, model_name, run_name)"
   ]
  },
  {
   "cell_type": "markdown",
   "metadata": {},
   "source": [
    "## Gradient Boosting Training and evaluation + MLFlow for model tracking"
   ]
  },
  {
   "cell_type": "code",
   "execution_count": 13,
   "metadata": {},
   "outputs": [
    {
     "name": "stdout",
     "output_type": "stream",
     "text": [
      "=====================================\n",
      "Validation AUC:0.8909774436090225\n",
      "=====================================\n"
     ]
    },
    {
     "data": {
      "image/png": "[encoded data removed]",
      "text/plain": [
       "<Figure size 432x288 with 2 Axes>"
      ]
     },
     "metadata": {
      "needs_background": "light"
     },
     "output_type": "display_data"
    },
    {
     "data": {
      "image/png": "[encoded data removed]",
      "text/plain": [
       "<Figure size 432x288 with 1 Axes>"
      ]
     },
     "metadata": {
      "needs_background": "light"
     },
     "output_type": "display_data"
    }
   ],
   "source": [
    "classifier = GradientBoostingClassifier\n",
    "param = {\"max_depth\":3, \"random_state\":20}\n",
    "model_name = 'gbm'\n",
    "run_name = 'GradientBoosting_model'\n",
    "model_experimentation(classifier, param, model_name, run_name)"
   ]
  },
  {
   "cell_type": "markdown",
   "metadata": {},
   "source": [
    "## Lightgbm Training and evaluation + MLFlow for model tracking"
   ]
  },
  {
   "cell_type": "code",
   "execution_count": 14,
   "metadata": {},
   "outputs": [
    {
     "name": "stdout",
     "output_type": "stream",
     "text": [
      "Training until validation scores don't improve for 50 rounds\n",
      "[20]\ttraining's auc: 0.980254\tvalid_1's auc: 0.883459\n",
      "[40]\ttraining's auc: 0.989177\tvalid_1's auc: 0.906015\n",
      "[60]\ttraining's auc: 0.994442\tvalid_1's auc: 0.902256\n",
      "[80]\ttraining's auc: 0.998245\tvalid_1's auc: 0.917293\n",
      "[100]\ttraining's auc: 0.999561\tvalid_1's auc: 0.917293\n",
      "Did not meet early stopping. Best iteration is:\n",
      "[96]\ttraining's auc: 0.999561\tvalid_1's auc: 0.917293\n",
      "=====================================\n",
      "Validation AUC:0.9172932330827068\n",
      "=====================================\n"
     ]
    },
    {
     "data": {
      "image/png": "[encoded data removed]",
      "text/plain": [
       "<Figure size 432x288 with 1 Axes>"
      ]
     },
     "metadata": {
      "needs_background": "light"
     },
     "output_type": "display_data"
    },
    {
     "data": {
      "image/png": "[encoded data removed]",
      "text/plain": [
       "<Figure size 432x288 with 1 Axes>"
      ]
     },
     "metadata": {
      "needs_background": "light"
     },
     "output_type": "display_data"
    },
    {
     "data": {
      "image/png": "[encoded data removed]",
      "text/plain": [
       "<Figure size 432x288 with 2 Axes>"
      ]
     },
     "metadata": {
      "needs_background": "light"
     },
     "output_type": "display_data"
    },
    {
     "data": {
      "image/png": "[encoded data removed]",
      "text/plain": [
       "<Figure size 432x288 with 1 Axes>"
      ]
     },
     "metadata": {
      "needs_background": "light"
     },
     "output_type": "display_data"
    }
   ],
   "source": [
    "# Launching Multiple Runs in One Program.This is easy to do because the ActiveRun object returned by mlflow.start_run() is a \n",
    "# Python context manager. You can “scope” each run to just one block of code as follows:\n",
    "with mlflow.start_run(experiment_id=experiment_id, run_name='Lightgbm_model') as run:\n",
    "    # Get run id \n",
    "    run_id = run.info.run_uuid\n",
    "\n",
    "    # Provide brief notes about the run\n",
    "    MlflowClient().set_tag(run_id,\n",
    "                           \"mlflow.note.content\",\n",
    "                           \"This is experiment for exploring different machine learning models for Campus Recruitment Dataset\")\n",
    "\n",
    "        \n",
    "    # Define tag\n",
    "    tags = {\"Application\": \"Payment Monitoring Platform\",\n",
    "            \"release.candidate\": \"PMP\",\n",
    "            \"release.version\": \"2.2.0\"}\n",
    "            \n",
    "    # Set Tag\n",
    "    mlflow.set_tags(tags)\n",
    "    \n",
    "    # Log python environment details\n",
    "    mlflow.log_artifact('requirements.txt')\n",
    "\n",
    "    # Define model parameter\n",
    "    params = {\n",
    "        \"objective\": \"binary\",\n",
    "        \"learning_rate\": 0.05,\n",
    "        \"metric\": \"auc\",\n",
    "        \"colsample_bytree\": 0.7,\n",
    "        \"subsample\": 0.8,\n",
    "        \"seed\": 42,\n",
    "    }\n",
    "        \n",
    "    # logging params\n",
    "    mlflow.log_params(params)\n",
    "    \n",
    "    # Perform model training\n",
    "    lgb_clf = LGBMClassifier(**params)\n",
    "    lgb_clf.fit(X_train, y_train, \n",
    "                eval_set = [(X_train, y_train), (X_valid, y_valid)], \n",
    "                early_stopping_rounds=50,\n",
    "                verbose=20)\n",
    "        \n",
    "    # Log model artifacts\n",
    "    mlflow.sklearn.log_model(lgb_clf, \"model\")\n",
    "    \n",
    "    # Perform model evaluation \n",
    "    lgb_valid_prediction = lgb_clf.predict_proba(X_valid)[:, 1]\n",
    "    fpr, tpr, thresholds = roc_curve(y_valid, lgb_valid_prediction)\n",
    "    roc_auc = auc(fpr, tpr) # compute area under the curve\n",
    "    print(\"=====================================\")\n",
    "    print(\"Validation AUC:{}\".format(roc_auc))\n",
    "    print(\"=====================================\")   \n",
    "        \n",
    "    # log metrics\n",
    "    mlflow.log_metrics({\"Validation_AUC\": roc_auc})\n",
    "       \n",
    "    # Plot and save feature importance details\n",
    "    ax = plot_importance(lgb_clf, height=0.4)\n",
    "    filename = './images/lgb_validation_feature_importance.png'\n",
    "    plt.savefig(filename)\n",
    "    # log model artifacts\n",
    "    mlflow.log_artifact(filename)\n",
    "    \n",
    "    ax = plot_metric(lgb_clf.evals_result_)\n",
    "    filename = './images/lgb_validation_metrics_comparision.png'\n",
    "    plt.savefig(filename)\n",
    "    # log model artifacts\n",
    "    mlflow.log_artifact(filename)\n",
    "    \n",
    "    # Plot and save metrics details    \n",
    "    plot_confusion_matrix(lgb_clf, X_valid, y_valid, \n",
    "                          display_labels=['Placed', 'Not Placed'],\n",
    "                          cmap='magma')\n",
    "    plt.title('Confusion Matrix')\n",
    "    filename = './images/lgb_validation_confusion_matrix.png'\n",
    "    plt.savefig(filename)\n",
    "    # log model artifacts\n",
    "    mlflow.log_artifact(filename)\n",
    "    \n",
    "    # Plot and save AUC details  \n",
    "    plot_roc_curve(lgb_clf, X_valid, y_valid, name='Validation')\n",
    "    plt.title('ROC AUC Curve')\n",
    "    filename = './images/lgb_validation_roc_curve.png'\n",
    "    plt.savefig(filename)\n",
    "    # log model artifacts\n",
    "    mlflow.log_artifact(filename)"
   ]
  },
  {
   "cell_type": "markdown",
   "metadata": {},
   "source": [
    "## Reference\n",
    "\n",
    "### Model experimentation\n",
    "https://www.mlflow.org/docs/latest/tracking.html#\n",
    "\n",
    "### Hyperparameter Optimization\n",
    "https://github.com/optuna/optuna"
   ]
  },
  {
   "cell_type": "code",
   "execution_count": null,
   "metadata": {},
   "outputs": [],
   "source": []
  }
 ],
 "metadata": {
  "kernelspec": {
   "display_name": "mlflow-kernel",
   "language": "python",
   "name": "env-mlflow"
  },
  "language_info": {
   "codemirror_mode": {
    "name": "ipython",
    "version": 3
   },
   "file_extension": ".py",
   "mimetype": "text/x-python",
   "name": "python",
   "nbconvert_exporter": "python",
   "pygments_lexer": "ipython3",
   "version": "3.8.6"
  }
 },
 "nbformat": 4,
 "nbformat_minor": 4
}
