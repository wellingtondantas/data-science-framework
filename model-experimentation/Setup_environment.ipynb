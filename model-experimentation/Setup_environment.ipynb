{
 "cells": [
  {
   "cell_type": "markdown",
   "metadata": {},
   "source": [
    "# Set up your python environment\n",
    "\n",
    "* Go the training script/notebook folder\n",
    "* Create python virtual environment\n",
    "\n",
    "    python -m venv env_mlflow\n",
    "    \n",
    "* Activate your virtual environment\n",
    "\n",
    "    env_mlflow\\Scripts\\activate -- Windows\n",
    "    \n",
    "    source env_mlflow/bin/activate -- Ubuntu\n",
    "\n",
    "* Install all the packages in your virtual environment\n",
    "\n",
    "    pip install -r requirements.txt\n",
    "    \n",
    "* Create kernel \n",
    "\n",
    "    python -m ipykernel install --user --name mlflow --display-name mlflow-kernel\n",
    "    \n",
    "* Launch Jupyter notebook\n",
    "\n",
    "    jupyter lab\n",
    "    \n",
    "* Connect jupyter to kernel mlflow-kernel"
   ]
  },
  {
   "cell_type": "code",
   "execution_count": null,
   "metadata": {},
   "outputs": [],
   "source": []
  }
 ],
 "metadata": {
  "kernelspec": {
   "display_name": "mlflow-kernel",
   "language": "python",
   "name": "env-mlflow"
  },
  "language_info": {
   "codemirror_mode": {
    "name": "ipython",
    "version": 3
   },
   "file_extension": ".py",
   "mimetype": "text/x-python",
   "name": "python",
   "nbconvert_exporter": "python",
   "pygments_lexer": "ipython3",
   "version": "3.8.6"
  }
 },
 "nbformat": 4,
 "nbformat_minor": 4
}
