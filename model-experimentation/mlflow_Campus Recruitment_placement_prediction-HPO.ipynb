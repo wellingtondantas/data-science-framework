{
 "cells": [
  {
   "cell_type": "markdown",
   "metadata": {},
   "source": [
    "# Model Experimentation Tracking (MLFow) - Hyperparamter Optimization"
   ]
  },
  {
   "cell_type": "markdown",
   "metadata": {},
   "source": [
    "Record and query experiments: Code, data, config, results, parameters, metrics\n",
    "\n",
    "![Data](images/MLflow_Model_experimentation.png)"
   ]
  },
  {
   "cell_type": "markdown",
   "metadata": {
    "id": "FQr7W0gHGj9D"
   },
   "source": [
    "## Import Packages"
   ]
  },
  {
   "cell_type": "code",
   "execution_count": 1,
   "metadata": {
    "colab": {
     "base_uri": "https://localhost:8080/",
     "height": 42
    },
    "executionInfo": {
     "elapsed": 4760,
     "status": "ok",
     "timestamp": 1555806967841,
     "user": {
      "displayName": "Vivek Kumar",
      "photoUrl": "https://lh6.googleusercontent.com/-cP-Bpvpzsbc/AAAAAAAAAAI/AAAAAAAAD78/l6XcNlPEAnc/s64/photo.jpg",
      "userId": "15067720337527944902"
     },
     "user_tz": -330
    },
    "id": "wSeHWATZsddI",
    "outputId": "bb370675-82bf-4829-815f-49404031ec9f"
   },
   "outputs": [],
   "source": [
    "# Data analysis library\n",
    "import numpy as np\n",
    "import pandas as pd\n",
    "import joblib\n",
    "\n",
    "# Machine Learning library\n",
    "import sklearn\n",
    "from sklearn.metrics import roc_curve, auc, accuracy_score, plot_confusion_matrix, plot_roc_curve\n",
    "from sklearn.preprocessing import LabelEncoder\n",
    "from sklearn.model_selection import train_test_split\n",
    "import lightgbm as lgb\n",
    "from lightgbm import LGBMClassifier\n",
    "from lightgbm import plot_importance, plot_metric\n",
    "\n",
    "# Model experimentation library\n",
    "import mlflow\n",
    "import mlflow.lightgbm\n",
    "from mlflow.tracking import MlflowClient\n",
    "\n",
    "# Hyperparameter tunning library\n",
    "import optuna\n",
    "\n",
    "# Plotting library\n",
    "import matplotlib.pyplot as plt\n",
    "# Prevent figures from displaying by turning interactive mode off using the function\n",
    "plt.ioff()\n",
    "import warnings\n",
    "warnings.filterwarnings(\"ignore\")"
   ]
  },
  {
   "cell_type": "code",
   "execution_count": 2,
   "metadata": {},
   "outputs": [
    {
     "name": "stdout",
     "output_type": "stream",
     "text": [
      "Numpy version is 1.19.4\n",
      "Pandas version is 1.1.5\n",
      "sklearn version is 0.23.2\n",
      "mlflow version is 1.12.1\n",
      "joblib version is 1.0.0\n",
      "optuna version is 2.3.0\n"
     ]
    }
   ],
   "source": [
    "print(f'Numpy version is {np.__version__}')\n",
    "print(f'Pandas version is {pd.__version__}')\n",
    "print(f'sklearn version is {sklearn.__version__}')\n",
    "print(f'mlflow version is {mlflow.__version__}')\n",
    "print(f'joblib version is {joblib.__version__}')\n",
    "print(f'optuna version is {optuna.__version__}')"
   ]
  },
  {
   "cell_type": "markdown",
   "metadata": {},
   "source": [
    "## Download data \n",
    "\n",
    "### Campus Recruitment Dataset\n",
    "#### Academic and Employability Factors influencing placement\n",
    "\n",
    "https://www.kaggle.com/benroshan/factors-affecting-campus-placement"
   ]
  },
  {
   "cell_type": "markdown",
   "metadata": {
    "id": "zNvnWiStLMT4"
   },
   "source": [
    "## Load data"
   ]
  },
  {
   "cell_type": "code",
   "execution_count": 3,
   "metadata": {
    "colab": {
     "base_uri": "https://localhost:8080/",
     "height": 50
    },
    "executionInfo": {
     "elapsed": 4689,
     "status": "ok",
     "timestamp": 1555809124644,
     "user": {
      "displayName": "Vivek Kumar",
      "photoUrl": "https://lh6.googleusercontent.com/-cP-Bpvpzsbc/AAAAAAAAAAI/AAAAAAAAD78/l6XcNlPEAnc/s64/photo.jpg",
      "userId": "15067720337527944902"
     },
     "user_tz": -330
    },
    "id": "Z1EBPLhVNnZO",
    "outputId": "8cbe010c-4d26-4021-c725-73350fe14cb3"
   },
   "outputs": [
    {
     "name": "stdout",
     "output_type": "stream",
     "text": [
      "The dataset has 215 samples with 15 features.\n"
     ]
    }
   ],
   "source": [
    "## Files\n",
    "data_file = '../data/placement_data/Placement_Data_Full_Class.csv'\n",
    "\n",
    "# Load train loan dataset \n",
    "try:\n",
    "    data = pd.read_csv(data_file)\n",
    "    print(\"The dataset has {} samples with {} features.\".format(*data.shape))\n",
    "except:\n",
    "    print(\"The dataset could not be loaded. Is the dataset missing?\")"
   ]
  },
  {
   "cell_type": "markdown",
   "metadata": {
    "id": "THxhQRYOOxkZ"
   },
   "source": [
    "## Introduction To The Data"
   ]
  },
  {
   "cell_type": "code",
   "execution_count": 4,
   "metadata": {
    "colab": {
     "base_uri": "https://localhost:8080/",
     "height": 246
    },
    "executionInfo": {
     "elapsed": 2730,
     "status": "ok",
     "timestamp": 1555756161637,
     "user": {
      "displayName": "Vivek Kumar",
      "photoUrl": "https://lh6.googleusercontent.com/-cP-Bpvpzsbc/AAAAAAAAAAI/AAAAAAAAD78/l6XcNlPEAnc/s64/photo.jpg",
      "userId": "15067720337527944902"
     },
     "user_tz": -330
    },
    "id": "ImRdfUXusm7O",
    "outputId": "bcae0e64-9146-4df1-d98a-5f2c42c05789"
   },
   "outputs": [
    {
     "data": {
      "text/html": [
       "<div>\n",
       "<style scoped>\n",
       "    .dataframe tbody tr th:only-of-type {\n",
       "        vertical-align: middle;\n",
       "    }\n",
       "\n",
       "    .dataframe tbody tr th {\n",
       "        vertical-align: top;\n",
       "    }\n",
       "\n",
       "    .dataframe thead th {\n",
       "        text-align: right;\n",
       "    }\n",
       "</style>\n",
       "<table border=\"1\" class=\"dataframe\">\n",
       "  <thead>\n",
       "    <tr style=\"text-align: right;\">\n",
       "      <th></th>\n",
       "      <th>sl_no</th>\n",
       "      <th>gender</th>\n",
       "      <th>ssc_p</th>\n",
       "      <th>ssc_b</th>\n",
       "      <th>hsc_p</th>\n",
       "      <th>hsc_b</th>\n",
       "      <th>hsc_s</th>\n",
       "      <th>degree_p</th>\n",
       "      <th>degree_t</th>\n",
       "      <th>workex</th>\n",
       "      <th>etest_p</th>\n",
       "      <th>specialisation</th>\n",
       "      <th>mba_p</th>\n",
       "      <th>status</th>\n",
       "      <th>salary</th>\n",
       "    </tr>\n",
       "  </thead>\n",
       "  <tbody>\n",
       "    <tr>\n",
       "      <th>0</th>\n",
       "      <td>1</td>\n",
       "      <td>M</td>\n",
       "      <td>67.00</td>\n",
       "      <td>Others</td>\n",
       "      <td>91.00</td>\n",
       "      <td>Others</td>\n",
       "      <td>Commerce</td>\n",
       "      <td>58.00</td>\n",
       "      <td>Sci&amp;Tech</td>\n",
       "      <td>No</td>\n",
       "      <td>55.0</td>\n",
       "      <td>Mkt&amp;HR</td>\n",
       "      <td>58.80</td>\n",
       "      <td>Placed</td>\n",
       "      <td>270000.0</td>\n",
       "    </tr>\n",
       "    <tr>\n",
       "      <th>1</th>\n",
       "      <td>2</td>\n",
       "      <td>M</td>\n",
       "      <td>79.33</td>\n",
       "      <td>Central</td>\n",
       "      <td>78.33</td>\n",
       "      <td>Others</td>\n",
       "      <td>Science</td>\n",
       "      <td>77.48</td>\n",
       "      <td>Sci&amp;Tech</td>\n",
       "      <td>Yes</td>\n",
       "      <td>86.5</td>\n",
       "      <td>Mkt&amp;Fin</td>\n",
       "      <td>66.28</td>\n",
       "      <td>Placed</td>\n",
       "      <td>200000.0</td>\n",
       "    </tr>\n",
       "    <tr>\n",
       "      <th>2</th>\n",
       "      <td>3</td>\n",
       "      <td>M</td>\n",
       "      <td>65.00</td>\n",
       "      <td>Central</td>\n",
       "      <td>68.00</td>\n",
       "      <td>Central</td>\n",
       "      <td>Arts</td>\n",
       "      <td>64.00</td>\n",
       "      <td>Comm&amp;Mgmt</td>\n",
       "      <td>No</td>\n",
       "      <td>75.0</td>\n",
       "      <td>Mkt&amp;Fin</td>\n",
       "      <td>57.80</td>\n",
       "      <td>Placed</td>\n",
       "      <td>250000.0</td>\n",
       "    </tr>\n",
       "    <tr>\n",
       "      <th>3</th>\n",
       "      <td>4</td>\n",
       "      <td>M</td>\n",
       "      <td>56.00</td>\n",
       "      <td>Central</td>\n",
       "      <td>52.00</td>\n",
       "      <td>Central</td>\n",
       "      <td>Science</td>\n",
       "      <td>52.00</td>\n",
       "      <td>Sci&amp;Tech</td>\n",
       "      <td>No</td>\n",
       "      <td>66.0</td>\n",
       "      <td>Mkt&amp;HR</td>\n",
       "      <td>59.43</td>\n",
       "      <td>Not Placed</td>\n",
       "      <td>NaN</td>\n",
       "    </tr>\n",
       "    <tr>\n",
       "      <th>4</th>\n",
       "      <td>5</td>\n",
       "      <td>M</td>\n",
       "      <td>85.80</td>\n",
       "      <td>Central</td>\n",
       "      <td>73.60</td>\n",
       "      <td>Central</td>\n",
       "      <td>Commerce</td>\n",
       "      <td>73.30</td>\n",
       "      <td>Comm&amp;Mgmt</td>\n",
       "      <td>No</td>\n",
       "      <td>96.8</td>\n",
       "      <td>Mkt&amp;Fin</td>\n",
       "      <td>55.50</td>\n",
       "      <td>Placed</td>\n",
       "      <td>425000.0</td>\n",
       "    </tr>\n",
       "  </tbody>\n",
       "</table>\n",
       "</div>"
      ],
      "text/plain": [
       "   sl_no gender  ssc_p    ssc_b  hsc_p    hsc_b     hsc_s  degree_p  \\\n",
       "0      1      M  67.00   Others  91.00   Others  Commerce     58.00   \n",
       "1      2      M  79.33  Central  78.33   Others   Science     77.48   \n",
       "2      3      M  65.00  Central  68.00  Central      Arts     64.00   \n",
       "3      4      M  56.00  Central  52.00  Central   Science     52.00   \n",
       "4      5      M  85.80  Central  73.60  Central  Commerce     73.30   \n",
       "\n",
       "    degree_t workex  etest_p specialisation  mba_p      status    salary  \n",
       "0   Sci&Tech     No     55.0         Mkt&HR  58.80      Placed  270000.0  \n",
       "1   Sci&Tech    Yes     86.5        Mkt&Fin  66.28      Placed  200000.0  \n",
       "2  Comm&Mgmt     No     75.0        Mkt&Fin  57.80      Placed  250000.0  \n",
       "3   Sci&Tech     No     66.0         Mkt&HR  59.43  Not Placed       NaN  \n",
       "4  Comm&Mgmt     No     96.8        Mkt&Fin  55.50      Placed  425000.0  "
      ]
     },
     "execution_count": 4,
     "metadata": {},
     "output_type": "execute_result"
    }
   ],
   "source": [
    "data.head()"
   ]
  },
  {
   "cell_type": "code",
   "execution_count": 5,
   "metadata": {
    "colab": {
     "base_uri": "https://localhost:8080/",
     "height": 70
    },
    "executionInfo": {
     "elapsed": 774,
     "status": "ok",
     "timestamp": 1555469230652,
     "user": {
      "displayName": "Vivek Kumar",
      "photoUrl": "https://lh6.googleusercontent.com/-cP-Bpvpzsbc/AAAAAAAAAAI/AAAAAAAAD78/l6XcNlPEAnc/s64/photo.jpg",
      "userId": "15067720337527944902"
     },
     "user_tz": -330
    },
    "id": "qzxmfXGtJ1Jx",
    "outputId": "cfe529f5-602d-480c-8aa3-5de57a21e997"
   },
   "outputs": [
    {
     "data": {
      "text/plain": [
       "Placed        148\n",
       "Not Placed     67\n",
       "Name: status, dtype: int64"
      ]
     },
     "execution_count": 5,
     "metadata": {},
     "output_type": "execute_result"
    }
   ],
   "source": [
    "data['status'].value_counts()"
   ]
  },
  {
   "cell_type": "markdown",
   "metadata": {},
   "source": [
    "## Start MLflow UI\n",
    "\n",
    "Start **mlflow ui** comman from the command prompt"
   ]
  },
  {
   "cell_type": "code",
   "execution_count": 6,
   "metadata": {},
   "outputs": [
    {
     "name": "stdout",
     "output_type": "stream",
     "text": [
      "^C\n"
     ]
    }
   ],
   "source": [
    "!mlflow ui"
   ]
  },
  {
   "cell_type": "markdown",
   "metadata": {},
   "source": [
    "## Initialize MLflow\n",
    "\n",
    "**Experiments** : You can organize runs into experiments, which group together runs for a specific task. \n",
    "\n",
    "**Tracking URI**: MLflow runs can be recorded to local files, to a database, or remotely to a tracking server. By default, the MLflow Python API logs runs locally to files in an mlruns directory wherever you ran your program\n",
    "\n",
    "#### MLflow Tracking Servers \n",
    "MLflow tracking server has two components for storage: a **backend store** and an **artifact store**\n",
    "\n",
    "The **backend store** is where MLflow Tracking Server stores experiment and run metadata as well as params, metrics, and tags for runs. MLflow supports two types of backend stores: **file store and database-backed store**.\n",
    "\n",
    "The **artifact store** is a location suitable for large data (such as an S3 bucket or shared NFS file system) and is where clients log their artifact output (for example, models).\n",
    "\n",
    "    Amazon S3 and S3-compatible storage\n",
    "    Azure Blob Storage\n",
    "    Google Cloud Storage\n",
    "    FTP server\n",
    "    SFTP Server\n",
    "    NFS\n",
    "    HDFS"
   ]
  },
  {
   "cell_type": "code",
   "execution_count": 6,
   "metadata": {},
   "outputs": [],
   "source": [
    "experiment_name = \"campus_recruitment_experiments_v2\"\n",
    "artifact_repository = './mlflow-run'\n",
    "\n",
    "# Provide uri and connect to your tracking server\n",
    "mlflow.set_tracking_uri('http://127.0.0.1:5000/')\n",
    "\n",
    "# Initialize client\n",
    "client = MlflowClient()\n",
    "\n",
    "# If experiment doesn't exist then it will create new\n",
    "# else it will take the experiment id and will use to to run the experiments\n",
    "try:\n",
    "    # Create experiment \n",
    "    experiment_id = client.create_experiment(experiment_name, artifact_location=artifact_repository)\n",
    "except:\n",
    "    # Get the experiment id if it already exists\n",
    "    experiment_id = client.get_experiment_by_name(experiment_name).experiment_id"
   ]
  },
  {
   "cell_type": "markdown",
   "metadata": {},
   "source": [
    "## Prepare data for model training"
   ]
  },
  {
   "cell_type": "code",
   "execution_count": 7,
   "metadata": {},
   "outputs": [],
   "source": [
    "exclude_feature = ['sl_no', 'salary', 'status']\n",
    "# Define Target columns\n",
    "target = data['status'].map({\"Placed\": 0 , \"Not Placed\": 1})\n",
    "\n",
    "# Define numeric and categorical features\n",
    "numeric_columns = data.select_dtypes(include=['int64', 'float64']).columns.tolist()\n",
    "categorical_columns = data.select_dtypes(include=['object']).columns.tolist()\n",
    "numeric_features = [col for col in numeric_columns if col not in exclude_feature]\n",
    "categorical_features = [col for col in categorical_columns if col not in exclude_feature]\n",
    "\n",
    "# Define final feature list for training and validation\n",
    "features = numeric_features + categorical_features\n",
    "# Final data for training and validation\n",
    "data = data[features]\n",
    "data = data.fillna(0)\n",
    "\n",
    "# Split data in train and vlaidation\n",
    "X_train, X_valid, y_train, y_valid = train_test_split(data, target, test_size=0.15, random_state=10)\n",
    "\n",
    "# Perform label encoding for categorical variable\n",
    "for feature in categorical_features:\n",
    "    le = LabelEncoder()\n",
    "    le.fit(X_train.loc[:, feature])\n",
    "    X_train.loc[:, feature] = le.transform(X_train.loc[:, feature])\n",
    "    X_valid.loc[:, feature] = le.transform(X_valid.loc[:, feature])"
   ]
  },
  {
   "cell_type": "markdown",
   "metadata": {},
   "source": [
    "## Lightgbm Hyperparameter tunning + MLFlow for model tracking"
   ]
  },
  {
   "cell_type": "markdown",
   "metadata": {},
   "source": [
    "### Define model training function to train and track model results"
   ]
  },
  {
   "cell_type": "code",
   "execution_count": 8,
   "metadata": {},
   "outputs": [],
   "source": [
    "def model_training_tracking(params):\n",
    "    # Launching Multiple Runs in One Program.This is easy to do because the ActiveRun object returned by mlflow.start_run() is a \n",
    "    # Python context manager. You can “scope” each run to just one block of code as follows:\n",
    "    with mlflow.start_run(experiment_id=experiment_id, run_name='Lightgbm_model') as run:\n",
    "        # Get run id \n",
    "        run_id = run.info.run_uuid\n",
    "        \n",
    "        # Set the notes for the run\n",
    "        MlflowClient().set_tag(run_id,\n",
    "                               \"mlflow.note.content\",\n",
    "                               \"This is experiment for hyperparameter optimzation for lightgbm models for the Campus Recruitment Dataset\")\n",
    "        \n",
    "        # Define customer tag\n",
    "        tags = {\"Application\": \"Payment Monitoring Platform\",\n",
    "                \"release.candidate\": \"PMP\",\n",
    "                \"release.version\": \"2.2.0\"}\n",
    "\n",
    "        # Set Tag\n",
    "        mlflow.set_tags(tags)\n",
    "                        \n",
    "        # Log python environment details\n",
    "        mlflow.log_artifact('requirements.txt')\n",
    "        \n",
    "        # logging params\n",
    "        mlflow.log_params(params)\n",
    "\n",
    "        # Perform model training\n",
    "        lgb_clf = LGBMClassifier(**params)\n",
    "        lgb_clf.fit(X_train, y_train, \n",
    "                    eval_set = [(X_train, y_train), (X_valid, y_valid)], \n",
    "                    early_stopping_rounds=50,\n",
    "                    verbose=20)\n",
    "\n",
    "        # Log model artifacts\n",
    "        mlflow.sklearn.log_model(lgb_clf, \"model\")\n",
    "\n",
    "        # Perform model evaluation \n",
    "        lgb_valid_prediction = lgb_clf.predict_proba(X_valid)[:, 1]\n",
    "        fpr, tpr, thresholds = roc_curve(y_valid, lgb_valid_prediction)\n",
    "        roc_auc = auc(fpr, tpr) # compute area under the curve\n",
    "        print(\"=====================================\")\n",
    "        print(\"Validation AUC:{}\".format(roc_auc))\n",
    "        print(\"=====================================\")   \n",
    "\n",
    "        # log metrics\n",
    "        mlflow.log_metrics({\"Validation_AUC\": roc_auc})\n",
    "\n",
    "        # Plot and save feature importance details\n",
    "        ax = plot_importance(lgb_clf, height=0.4)\n",
    "        filename = './images/lgb_validation_feature_importance.png'\n",
    "        plt.savefig(filename)\n",
    "        # log model artifacts\n",
    "        mlflow.log_artifact(filename)\n",
    "\n",
    "        ax = plot_metric(lgb_clf.evals_result_)\n",
    "        filename = './images/lgb_validation_metrics_comparision.png'\n",
    "        plt.savefig(filename)\n",
    "        # log model artifacts\n",
    "        mlflow.log_artifact(filename)\n",
    "\n",
    "        # Plot and save metrics details    \n",
    "        plot_confusion_matrix(lgb_clf, X_valid, y_valid, \n",
    "                              display_labels=['Placed', 'Not Placed'],\n",
    "                              cmap='magma')\n",
    "        plt.title('Confusion Matrix')\n",
    "        filename = './images/lgb_validation_confusion_matrix.png'\n",
    "        plt.savefig(filename)\n",
    "        # log model artifacts\n",
    "        mlflow.log_artifact(filename)\n",
    "\n",
    "        # Plot and save AUC details  \n",
    "        plot_roc_curve(lgb_clf, X_valid, y_valid, name='Validation')\n",
    "        plt.title('ROC AUC Curve')\n",
    "        filename = './images/lgb_validation_roc_curve.png'\n",
    "        plt.savefig(filename)\n",
    "        # log model artifacts\n",
    "        mlflow.log_artifact(filename)\n",
    "        \n",
    "        return roc_auc"
   ]
  },
  {
   "cell_type": "markdown",
   "metadata": {},
   "source": [
    "### Define an objective function to be maximized"
   ]
  },
  {
   "cell_type": "code",
   "execution_count": 9,
   "metadata": {},
   "outputs": [],
   "source": [
    "def objective(trial):\n",
    "\n",
    "    param = {\n",
    "        \"objective\": \"binary\",\n",
    "        \"metric\": \"auc\",\n",
    "        \"learning_rate\": trial.suggest_float(\"learning_rate\", 1e-2, 1e-1, log=True),\n",
    "        \"colsample_bytree\": trial.suggest_float(\"colsample_bytree\", 0.4, 1.0),\n",
    "        \"subsample\": trial.suggest_float(\"subsample\", 0.4, 1.0),\n",
    "        \"random_state\": 42,\n",
    "    }\n",
    "    \n",
    "    auc = model_training_tracking(param)\n",
    "    return auc"
   ]
  },
  {
   "cell_type": "markdown",
   "metadata": {},
   "source": [
    "### Create a study object and optimize the objective function"
   ]
  },
  {
   "cell_type": "code",
   "execution_count": 10,
   "metadata": {},
   "outputs": [
    {
     "name": "stderr",
     "output_type": "stream",
     "text": [
      "\u001b[32m[I 2020-12-20 16:47:54,563]\u001b[0m A new study created in memory with name: no-name-8668af4e-34dd-4a71-aad4-990b78ad4b0b\u001b[0m\n"
     ]
    },
    {
     "name": "stdout",
     "output_type": "stream",
     "text": [
      "Training until validation scores don't improve for 50 rounds\n",
      "[20]\ttraining's auc: 0.974331\tvalid_1's auc: 0.87218\n",
      "[40]\ttraining's auc: 0.979743\tvalid_1's auc: 0.902256\n",
      "[60]\ttraining's auc: 0.986983\tvalid_1's auc: 0.894737\n",
      "[80]\ttraining's auc: 0.990493\tvalid_1's auc: 0.902256\n",
      "Early stopping, best iteration is:\n",
      "[38]\ttraining's auc: 0.981205\tvalid_1's auc: 0.909774\n",
      "=====================================\n",
      "Validation AUC:0.9097744360902256\n",
      "=====================================\n"
     ]
    },
    {
     "name": "stderr",
     "output_type": "stream",
     "text": [
      "\u001b[32m[I 2020-12-20 16:47:56,361]\u001b[0m Trial 0 finished with value: 0.9097744360902256 and parameters: {'learning_rate': 0.02701990132762442, 'colsample_bytree': 0.6804278072196543, 'subsample': 0.8445415704095669}. Best is trial 0 with value: 0.9097744360902256.\u001b[0m\n"
     ]
    },
    {
     "name": "stdout",
     "output_type": "stream",
     "text": [
      "Training until validation scores don't improve for 50 rounds\n",
      "[20]\ttraining's auc: 0.978646\tvalid_1's auc: 0.868421\n",
      "[40]\ttraining's auc: 0.991663\tvalid_1's auc: 0.883459\n",
      "Early stopping, best iteration is:\n",
      "[2]\ttraining's auc: 0.941568\tvalid_1's auc: 0.911654\n",
      "=====================================\n",
      "Validation AUC:0.9116541353383458\n",
      "=====================================\n"
     ]
    },
    {
     "name": "stderr",
     "output_type": "stream",
     "text": [
      "\u001b[32m[I 2020-12-20 16:47:57,384]\u001b[0m Trial 1 finished with value: 0.9116541353383458 and parameters: {'learning_rate': 0.05806050035338419, 'colsample_bytree': 0.45345881652972353, 'subsample': 0.68724782238422}. Best is trial 1 with value: 0.9116541353383458.\u001b[0m\n"
     ]
    },
    {
     "name": "stdout",
     "output_type": "stream",
     "text": [
      "Training until validation scores don't improve for 50 rounds\n",
      "[20]\ttraining's auc: 0.96614\tvalid_1's auc: 0.853383\n",
      "[40]\ttraining's auc: 0.974916\tvalid_1's auc: 0.860902\n",
      "[60]\ttraining's auc: 0.977695\tvalid_1's auc: 0.883459\n",
      "[80]\ttraining's auc: 0.980474\tvalid_1's auc: 0.894737\n",
      "[100]\ttraining's auc: 0.983326\tvalid_1's auc: 0.887218\n",
      "Did not meet early stopping. Best iteration is:\n",
      "[98]\ttraining's auc: 0.983472\tvalid_1's auc: 0.887218\n",
      "=====================================\n",
      "Validation AUC:0.8872180451127819\n",
      "=====================================\n"
     ]
    },
    {
     "name": "stderr",
     "output_type": "stream",
     "text": [
      "\u001b[32m[I 2020-12-20 16:47:58,663]\u001b[0m Trial 2 finished with value: 0.8872180451127819 and parameters: {'learning_rate': 0.013805860617504004, 'colsample_bytree': 0.7471234605162884, 'subsample': 0.9566608274427805}. Best is trial 1 with value: 0.9116541353383458.\u001b[0m\n"
     ]
    },
    {
     "name": "stdout",
     "output_type": "stream",
     "text": [
      "Training until validation scores don't improve for 50 rounds\n",
      "[20]\ttraining's auc: 0.976232\tvalid_1's auc: 0.883459\n",
      "[40]\ttraining's auc: 0.985374\tvalid_1's auc: 0.898496\n",
      "[60]\ttraining's auc: 0.990639\tvalid_1's auc: 0.909774\n",
      "[80]\ttraining's auc: 0.995173\tvalid_1's auc: 0.909774\n",
      "[100]\ttraining's auc: 0.997952\tvalid_1's auc: 0.906015\n",
      "Did not meet early stopping. Best iteration is:\n",
      "[100]\ttraining's auc: 0.997952\tvalid_1's auc: 0.906015\n",
      "=====================================\n",
      "Validation AUC:0.906015037593985\n",
      "=====================================\n"
     ]
    },
    {
     "name": "stderr",
     "output_type": "stream",
     "text": [
      "\u001b[32m[I 2020-12-20 16:47:59,932]\u001b[0m Trial 3 finished with value: 0.906015037593985 and parameters: {'learning_rate': 0.041189695845684694, 'colsample_bytree': 0.8363235488071805, 'subsample': 0.4780505367371751}. Best is trial 1 with value: 0.9116541353383458.\u001b[0m\n"
     ]
    },
    {
     "name": "stdout",
     "output_type": "stream",
     "text": [
      "Training until validation scores don't improve for 50 rounds\n",
      "[20]\ttraining's auc: 0.972941\tvalid_1's auc: 0.890977\n",
      "[40]\ttraining's auc: 0.983619\tvalid_1's auc: 0.894737\n",
      "[60]\ttraining's auc: 0.988591\tvalid_1's auc: 0.894737\n",
      "[80]\ttraining's auc: 0.993272\tvalid_1's auc: 0.906015\n",
      "[100]\ttraining's auc: 0.99649\tvalid_1's auc: 0.909774\n",
      "Did not meet early stopping. Best iteration is:\n",
      "[99]\ttraining's auc: 0.99649\tvalid_1's auc: 0.906015\n",
      "=====================================\n",
      "Validation AUC:0.906015037593985\n",
      "=====================================\n"
     ]
    },
    {
     "name": "stderr",
     "output_type": "stream",
     "text": [
      "\u001b[32m[I 2020-12-20 16:48:01,097]\u001b[0m Trial 4 finished with value: 0.906015037593985 and parameters: {'learning_rate': 0.033733197171224305, 'colsample_bytree': 0.7913667257134975, 'subsample': 0.4283813092596981}. Best is trial 1 with value: 0.9116541353383458.\u001b[0m\n"
     ]
    },
    {
     "name": "stdout",
     "output_type": "stream",
     "text": [
      "Training until validation scores don't improve for 50 rounds\n",
      "[20]\ttraining's auc: 0.980254\tvalid_1's auc: 0.883459\n",
      "[40]\ttraining's auc: 0.989615\tvalid_1's auc: 0.898496\n",
      "[60]\ttraining's auc: 0.994735\tvalid_1's auc: 0.898496\n",
      "[80]\ttraining's auc: 0.99766\tvalid_1's auc: 0.917293\n",
      "[100]\ttraining's auc: 0.999854\tvalid_1's auc: 0.921053\n",
      "Did not meet early stopping. Best iteration is:\n",
      "[100]\ttraining's auc: 0.999854\tvalid_1's auc: 0.921053\n",
      "=====================================\n",
      "Validation AUC:0.9210526315789475\n",
      "=====================================\n"
     ]
    },
    {
     "name": "stderr",
     "output_type": "stream",
     "text": [
      "\u001b[32m[I 2020-12-20 16:48:02,293]\u001b[0m Trial 5 finished with value: 0.9210526315789475 and parameters: {'learning_rate': 0.04980680386446043, 'colsample_bytree': 0.6734515470523221, 'subsample': 0.4965623082097034}. Best is trial 5 with value: 0.9210526315789475.\u001b[0m\n"
     ]
    },
    {
     "name": "stdout",
     "output_type": "stream",
     "text": [
      "Training until validation scores don't improve for 50 rounds\n",
      "[20]\ttraining's auc: 0.958973\tvalid_1's auc: 0.845865\n",
      "[40]\ttraining's auc: 0.971332\tvalid_1's auc: 0.87594\n",
      "[60]\ttraining's auc: 0.9736\tvalid_1's auc: 0.913534\n",
      "[80]\ttraining's auc: 0.97711\tvalid_1's auc: 0.898496\n",
      "[100]\ttraining's auc: 0.981717\tvalid_1's auc: 0.917293\n",
      "Did not meet early stopping. Best iteration is:\n",
      "[100]\ttraining's auc: 0.981717\tvalid_1's auc: 0.917293\n",
      "=====================================\n",
      "Validation AUC:0.9172932330827068\n",
      "=====================================\n"
     ]
    },
    {
     "name": "stderr",
     "output_type": "stream",
     "text": [
      "\u001b[32m[I 2020-12-20 16:48:03,486]\u001b[0m Trial 6 finished with value: 0.9172932330827068 and parameters: {'learning_rate': 0.01082051702665304, 'colsample_bytree': 0.8853883680967638, 'subsample': 0.5907139539623958}. Best is trial 5 with value: 0.9210526315789475.\u001b[0m\n"
     ]
    },
    {
     "name": "stdout",
     "output_type": "stream",
     "text": [
      "Training until validation scores don't improve for 50 rounds\n",
      "[20]\ttraining's auc: 0.969797\tvalid_1's auc: 0.857143\n",
      "[40]\ttraining's auc: 0.974038\tvalid_1's auc: 0.864662\n",
      "[60]\ttraining's auc: 0.978134\tvalid_1's auc: 0.890977\n",
      "[80]\ttraining's auc: 0.980547\tvalid_1's auc: 0.898496\n",
      "[100]\ttraining's auc: 0.984204\tvalid_1's auc: 0.902256\n",
      "Did not meet early stopping. Best iteration is:\n",
      "[100]\ttraining's auc: 0.984204\tvalid_1's auc: 0.902256\n",
      "=====================================\n",
      "Validation AUC:0.9022556390977443\n",
      "=====================================\n"
     ]
    },
    {
     "name": "stderr",
     "output_type": "stream",
     "text": [
      "\u001b[32m[I 2020-12-20 16:48:04,744]\u001b[0m Trial 7 finished with value: 0.9022556390977443 and parameters: {'learning_rate': 0.01459830413595709, 'colsample_bytree': 0.6718121466054068, 'subsample': 0.5826408347246305}. Best is trial 5 with value: 0.9210526315789475.\u001b[0m\n"
     ]
    },
    {
     "name": "stdout",
     "output_type": "stream",
     "text": [
      "Training until validation scores don't improve for 50 rounds\n",
      "[20]\ttraining's auc: 0.987275\tvalid_1's auc: 0.898496\n",
      "[40]\ttraining's auc: 0.993711\tvalid_1's auc: 0.909774\n",
      "[60]\ttraining's auc: 0.998537\tvalid_1's auc: 0.909774\n",
      "[80]\ttraining's auc: 1\tvalid_1's auc: 0.913534\n",
      "[100]\ttraining's auc: 1\tvalid_1's auc: 0.921053\n",
      "Did not meet early stopping. Best iteration is:\n",
      "[80]\ttraining's auc: 1\tvalid_1's auc: 0.913534\n",
      "=====================================\n",
      "Validation AUC:0.9135338345864662\n",
      "=====================================\n"
     ]
    },
    {
     "name": "stderr",
     "output_type": "stream",
     "text": [
      "\u001b[32m[I 2020-12-20 16:48:05,967]\u001b[0m Trial 8 finished with value: 0.9135338345864662 and parameters: {'learning_rate': 0.06762840920170832, 'colsample_bytree': 0.6753995071271871, 'subsample': 0.7461951900070407}. Best is trial 5 with value: 0.9210526315789475.\u001b[0m\n"
     ]
    },
    {
     "name": "stdout",
     "output_type": "stream",
     "text": [
      "Training until validation scores don't improve for 50 rounds\n",
      "[20]\ttraining's auc: 0.968992\tvalid_1's auc: 0.857143\n",
      "[40]\ttraining's auc: 0.977183\tvalid_1's auc: 0.887218\n",
      "Early stopping, best iteration is:\n",
      "[2]\ttraining's auc: 0.941568\tvalid_1's auc: 0.911654\n",
      "=====================================\n",
      "Validation AUC:0.9116541353383458\n",
      "=====================================\n"
     ]
    },
    {
     "name": "stderr",
     "output_type": "stream",
     "text": [
      "\u001b[32m[I 2020-12-20 16:48:07,062]\u001b[0m Trial 9 finished with value: 0.9116541353383458 and parameters: {'learning_rate': 0.014075661053172043, 'colsample_bytree': 0.4028642807338941, 'subsample': 0.7691546434266776}. Best is trial 5 with value: 0.9210526315789475.\u001b[0m\n"
     ]
    },
    {
     "name": "stdout",
     "output_type": "stream",
     "text": [
      "Training until validation scores don't improve for 50 rounds\n",
      "[20]\ttraining's auc: 0.985593\tvalid_1's auc: 0.906015\n",
      "[40]\ttraining's auc: 0.997221\tvalid_1's auc: 0.894737\n",
      "[60]\ttraining's auc: 1\tvalid_1's auc: 0.909774\n",
      "[80]\ttraining's auc: 1\tvalid_1's auc: 0.909774\n",
      "Early stopping, best iteration is:\n",
      "[46]\ttraining's auc: 0.998245\tvalid_1's auc: 0.917293\n",
      "=====================================\n",
      "Validation AUC:0.9172932330827067\n",
      "=====================================\n"
     ]
    },
    {
     "name": "stderr",
     "output_type": "stream",
     "text": [
      "\u001b[32m[I 2020-12-20 16:48:08,325]\u001b[0m Trial 10 finished with value: 0.9172932330827067 and parameters: {'learning_rate': 0.09437884401470567, 'colsample_bytree': 0.5564401195600701, 'subsample': 0.4026094060316379}. Best is trial 5 with value: 0.9210526315789475.\u001b[0m\n"
     ]
    },
    {
     "name": "stdout",
     "output_type": "stream",
     "text": [
      "Training until validation scores don't improve for 50 rounds\n",
      "[20]\ttraining's auc: 0.963507\tvalid_1's auc: 0.87406\n",
      "[40]\ttraining's auc: 0.975574\tvalid_1's auc: 0.887218\n",
      "[60]\ttraining's auc: 0.982302\tvalid_1's auc: 0.902256\n",
      "[80]\ttraining's auc: 0.985666\tvalid_1's auc: 0.894737\n",
      "[100]\ttraining's auc: 0.988006\tvalid_1's auc: 0.902256\n",
      "Did not meet early stopping. Best iteration is:\n",
      "[96]\ttraining's auc: 0.988006\tvalid_1's auc: 0.902256\n",
      "=====================================\n",
      "Validation AUC:0.9022556390977443\n",
      "=====================================\n"
     ]
    },
    {
     "name": "stderr",
     "output_type": "stream",
     "text": [
      "\u001b[32m[I 2020-12-20 16:48:09,433]\u001b[0m Trial 11 finished with value: 0.9022556390977443 and parameters: {'learning_rate': 0.020599142420924314, 'colsample_bytree': 0.9955991086188408, 'subsample': 0.5701850898409796}. Best is trial 5 with value: 0.9210526315789475.\u001b[0m\n"
     ]
    },
    {
     "name": "stdout",
     "output_type": "stream",
     "text": [
      "Training until validation scores don't improve for 50 rounds\n",
      "[20]\ttraining's auc: 0.981205\tvalid_1's auc: 0.902256\n",
      "[40]\ttraining's auc: 0.989177\tvalid_1's auc: 0.906015\n",
      "[60]\ttraining's auc: 0.995027\tvalid_1's auc: 0.902256\n",
      "[80]\ttraining's auc: 0.998684\tvalid_1's auc: 0.917293\n",
      "[100]\ttraining's auc: 1\tvalid_1's auc: 0.913534\n",
      "Did not meet early stopping. Best iteration is:\n",
      "[95]\ttraining's auc: 1\tvalid_1's auc: 0.913534\n",
      "=====================================\n",
      "Validation AUC:0.9135338345864663\n",
      "=====================================\n"
     ]
    },
    {
     "name": "stderr",
     "output_type": "stream",
     "text": [
      "\u001b[32m[I 2020-12-20 16:48:10,561]\u001b[0m Trial 12 finished with value: 0.9135338345864663 and parameters: {'learning_rate': 0.052893540852799494, 'colsample_bytree': 0.9353985181014517, 'subsample': 0.547687969417654}. Best is trial 5 with value: 0.9210526315789475.\u001b[0m\n"
     ]
    },
    {
     "name": "stdout",
     "output_type": "stream",
     "text": [
      "Training until validation scores don't improve for 50 rounds\n",
      "[20]\ttraining's auc: 0.986178\tvalid_1's auc: 0.902256\n",
      "[40]\ttraining's auc: 0.997952\tvalid_1's auc: 0.902256\n",
      "[60]\ttraining's auc: 1\tvalid_1's auc: 0.909774\n",
      "[80]\ttraining's auc: 1\tvalid_1's auc: 0.894737\n",
      "Early stopping, best iteration is:\n",
      "[34]\ttraining's auc: 0.995466\tvalid_1's auc: 0.913534\n",
      "=====================================\n",
      "Validation AUC:0.9135338345864663\n",
      "=====================================\n"
     ]
    },
    {
     "name": "stderr",
     "output_type": "stream",
     "text": [
      "\u001b[32m[I 2020-12-20 16:48:11,674]\u001b[0m Trial 13 finished with value: 0.9135338345864663 and parameters: {'learning_rate': 0.09941021276002143, 'colsample_bytree': 0.8815708064619441, 'subsample': 0.6322571625693427}. Best is trial 5 with value: 0.9210526315789475.\u001b[0m\n"
     ]
    },
    {
     "name": "stdout",
     "output_type": "stream",
     "text": [
      "Training until validation scores don't improve for 50 rounds\n",
      "[20]\ttraining's auc: 0.95305\tvalid_1's auc: 0.887218\n",
      "[40]\ttraining's auc: 0.961094\tvalid_1's auc: 0.87594\n",
      "Early stopping, best iteration is:\n",
      "[3]\ttraining's auc: 0.94581\tvalid_1's auc: 0.898496\n",
      "=====================================\n",
      "Validation AUC:0.8984962406015037\n",
      "=====================================\n"
     ]
    },
    {
     "name": "stderr",
     "output_type": "stream",
     "text": [
      "\u001b[32m[I 2020-12-20 16:48:12,665]\u001b[0m Trial 14 finished with value: 0.8984962406015037 and parameters: {'learning_rate': 0.010346477598912857, 'colsample_bytree': 0.5282033702150506, 'subsample': 0.4893561612196504}. Best is trial 5 with value: 0.9210526315789475.\u001b[0m\n"
     ]
    },
    {
     "name": "stdout",
     "output_type": "stream",
     "text": [
      "Training until validation scores don't improve for 50 rounds\n",
      "[20]\ttraining's auc: 0.968115\tvalid_1's auc: 0.868421\n",
      "[40]\ttraining's auc: 0.977329\tvalid_1's auc: 0.887218\n",
      "[60]\ttraining's auc: 0.983619\tvalid_1's auc: 0.87594\n",
      "[80]\ttraining's auc: 0.988445\tvalid_1's auc: 0.890977\n",
      "[100]\ttraining's auc: 0.990932\tvalid_1's auc: 0.902256\n",
      "Did not meet early stopping. Best iteration is:\n",
      "[99]\ttraining's auc: 0.990932\tvalid_1's auc: 0.902256\n",
      "=====================================\n",
      "Validation AUC:0.9022556390977443\n",
      "=====================================\n"
     ]
    },
    {
     "name": "stderr",
     "output_type": "stream",
     "text": [
      "\u001b[32m[I 2020-12-20 16:48:13,776]\u001b[0m Trial 15 finished with value: 0.9022556390977443 and parameters: {'learning_rate': 0.022866495658727747, 'colsample_bytree': 0.5944223778393047, 'subsample': 0.6325888384476621}. Best is trial 5 with value: 0.9210526315789475.\u001b[0m\n"
     ]
    },
    {
     "name": "stdout",
     "output_type": "stream",
     "text": [
      "Training until validation scores don't improve for 50 rounds\n",
      "[20]\ttraining's auc: 0.973673\tvalid_1's auc: 0.87594\n",
      "[40]\ttraining's auc: 0.984935\tvalid_1's auc: 0.894737\n",
      "[60]\ttraining's auc: 0.989469\tvalid_1's auc: 0.898496\n",
      "[80]\ttraining's auc: 0.994881\tvalid_1's auc: 0.902256\n",
      "[100]\ttraining's auc: 0.997367\tvalid_1's auc: 0.902256\n",
      "Did not meet early stopping. Best iteration is:\n",
      "[100]\ttraining's auc: 0.997367\tvalid_1's auc: 0.902256\n",
      "=====================================\n",
      "Validation AUC:0.9022556390977443\n",
      "=====================================\n"
     ]
    },
    {
     "name": "stderr",
     "output_type": "stream",
     "text": [
      "\u001b[32m[I 2020-12-20 16:48:14,901]\u001b[0m Trial 16 finished with value: 0.9022556390977443 and parameters: {'learning_rate': 0.03938398181744731, 'colsample_bytree': 0.9891010819583818, 'subsample': 0.5120946802440023}. Best is trial 5 with value: 0.9210526315789475.\u001b[0m\n"
     ]
    },
    {
     "name": "stdout",
     "output_type": "stream",
     "text": [
      "Training until validation scores don't improve for 50 rounds\n",
      "[20]\ttraining's auc: 0.984642\tvalid_1's auc: 0.883459\n",
      "[40]\ttraining's auc: 0.995612\tvalid_1's auc: 0.902256\n",
      "[60]\ttraining's auc: 1\tvalid_1's auc: 0.913534\n",
      "[80]\ttraining's auc: 1\tvalid_1's auc: 0.898496\n",
      "[100]\ttraining's auc: 1\tvalid_1's auc: 0.902256\n",
      "Did not meet early stopping. Best iteration is:\n",
      "[59]\ttraining's auc: 1\tvalid_1's auc: 0.909774\n",
      "=====================================\n",
      "Validation AUC:0.9097744360902257\n",
      "=====================================\n"
     ]
    },
    {
     "name": "stderr",
     "output_type": "stream",
     "text": [
      "\u001b[32m[I 2020-12-20 16:48:16,228]\u001b[0m Trial 17 finished with value: 0.9097744360902257 and parameters: {'learning_rate': 0.08107687539002113, 'colsample_bytree': 0.7363074369863956, 'subsample': 0.4109611659715784}. Best is trial 5 with value: 0.9210526315789475.\u001b[0m\n"
     ]
    },
    {
     "name": "stdout",
     "output_type": "stream",
     "text": [
      "Training until validation scores don't improve for 50 rounds\n",
      "[20]\ttraining's auc: 0.976013\tvalid_1's auc: 0.87218\n",
      "[40]\ttraining's auc: 0.988591\tvalid_1's auc: 0.906015\n",
      "[60]\ttraining's auc: 0.993272\tvalid_1's auc: 0.894737\n",
      "[80]\ttraining's auc: 0.997075\tvalid_1's auc: 0.894737\n",
      "[100]\ttraining's auc: 0.99883\tvalid_1's auc: 0.902256\n",
      "Did not meet early stopping. Best iteration is:\n",
      "[96]\ttraining's auc: 0.99883\tvalid_1's auc: 0.898496\n",
      "=====================================\n",
      "Validation AUC:0.8984962406015038\n",
      "=====================================\n"
     ]
    },
    {
     "name": "stderr",
     "output_type": "stream",
     "text": [
      "\u001b[32m[I 2020-12-20 16:48:17,362]\u001b[0m Trial 18 finished with value: 0.8984962406015038 and parameters: {'learning_rate': 0.04861880115106162, 'colsample_bytree': 0.6082830100227862, 'subsample': 0.6400828010991286}. Best is trial 5 with value: 0.9210526315789475.\u001b[0m\n"
     ]
    },
    {
     "name": "stdout",
     "output_type": "stream",
     "text": [
      "Training until validation scores don't improve for 50 rounds\n",
      "[20]\ttraining's auc: 0.961752\tvalid_1's auc: 0.853383\n",
      "[40]\ttraining's auc: 0.971771\tvalid_1's auc: 0.879699\n",
      "[60]\ttraining's auc: 0.973892\tvalid_1's auc: 0.906015\n",
      "[80]\ttraining's auc: 0.976817\tvalid_1's auc: 0.898496\n",
      "[100]\ttraining's auc: 0.982229\tvalid_1's auc: 0.917293\n",
      "Did not meet early stopping. Best iteration is:\n",
      "[100]\ttraining's auc: 0.982229\tvalid_1's auc: 0.917293\n",
      "=====================================\n",
      "Validation AUC:0.9172932330827068\n",
      "=====================================\n"
     ]
    },
    {
     "name": "stderr",
     "output_type": "stream",
     "text": [
      "\u001b[32m[I 2020-12-20 16:48:18,444]\u001b[0m Trial 19 finished with value: 0.9172932330827068 and parameters: {'learning_rate': 0.011010267161052172, 'colsample_bytree': 0.8840917371917998, 'subsample': 0.46694342653455423}. Best is trial 5 with value: 0.9210526315789475.\u001b[0m\n"
     ]
    },
    {
     "name": "stdout",
     "output_type": "stream",
     "text": [
      "Training until validation scores don't improve for 50 rounds\n",
      "[20]\ttraining's auc: 0.983472\tvalid_1's auc: 0.890977\n",
      "[40]\ttraining's auc: 0.994442\tvalid_1's auc: 0.909774\n",
      "[60]\ttraining's auc: 0.99883\tvalid_1's auc: 0.906015\n",
      "[80]\ttraining's auc: 1\tvalid_1's auc: 0.902256\n",
      "Early stopping, best iteration is:\n",
      "[36]\ttraining's auc: 0.992248\tvalid_1's auc: 0.913534\n",
      "=====================================\n",
      "Validation AUC:0.9135338345864662\n",
      "=====================================\n"
     ]
    },
    {
     "name": "stderr",
     "output_type": "stream",
     "text": [
      "\u001b[32m[I 2020-12-20 16:48:19,538]\u001b[0m Trial 20 finished with value: 0.9135338345864662 and parameters: {'learning_rate': 0.06980001239018617, 'colsample_bytree': 0.8006395276867925, 'subsample': 0.45339747814234266}. Best is trial 5 with value: 0.9210526315789475.\u001b[0m\n"
     ]
    },
    {
     "name": "stdout",
     "output_type": "stream",
     "text": [
      "Training until validation scores don't improve for 50 rounds\n",
      "[20]\ttraining's auc: 0.962484\tvalid_1's auc: 0.857143\n",
      "[40]\ttraining's auc: 0.970601\tvalid_1's auc: 0.87218\n",
      "[60]\ttraining's auc: 0.97477\tvalid_1's auc: 0.894737\n",
      "[80]\ttraining's auc: 0.978792\tvalid_1's auc: 0.898496\n",
      "[100]\ttraining's auc: 0.982887\tvalid_1's auc: 0.913534\n",
      "Did not meet early stopping. Best iteration is:\n",
      "[99]\ttraining's auc: 0.982887\tvalid_1's auc: 0.913534\n",
      "=====================================\n",
      "Validation AUC:0.9135338345864662\n",
      "=====================================\n"
     ]
    },
    {
     "name": "stderr",
     "output_type": "stream",
     "text": [
      "\u001b[32m[I 2020-12-20 16:48:20,664]\u001b[0m Trial 21 finished with value: 0.9135338345864662 and parameters: {'learning_rate': 0.012248756415700507, 'colsample_bytree': 0.8891546071289493, 'subsample': 0.5356268898462679}. Best is trial 5 with value: 0.9210526315789475.\u001b[0m\n"
     ]
    },
    {
     "name": "stdout",
     "output_type": "stream",
     "text": [
      "Training until validation scores don't improve for 50 rounds\n",
      "[20]\ttraining's auc: 0.966798\tvalid_1's auc: 0.87218\n",
      "[40]\ttraining's auc: 0.972868\tvalid_1's auc: 0.879699\n",
      "[60]\ttraining's auc: 0.979743\tvalid_1's auc: 0.902256\n",
      "[80]\ttraining's auc: 0.983399\tvalid_1's auc: 0.909774\n",
      "[100]\ttraining's auc: 0.986471\tvalid_1's auc: 0.898496\n",
      "Did not meet early stopping. Best iteration is:\n",
      "[100]\ttraining's auc: 0.986471\tvalid_1's auc: 0.898496\n",
      "=====================================\n",
      "Validation AUC:0.8984962406015038\n",
      "=====================================\n"
     ]
    },
    {
     "name": "stderr",
     "output_type": "stream",
     "text": [
      "\u001b[32m[I 2020-12-20 16:48:21,867]\u001b[0m Trial 22 finished with value: 0.8984962406015038 and parameters: {'learning_rate': 0.01809118466587407, 'colsample_bytree': 0.9377369477850716, 'subsample': 0.595190040548166}. Best is trial 5 with value: 0.9210526315789475.\u001b[0m\n"
     ]
    },
    {
     "name": "stdout",
     "output_type": "stream",
     "text": [
      "Training until validation scores don't improve for 50 rounds\n",
      "[20]\ttraining's auc: 0.960875\tvalid_1's auc: 0.855263\n",
      "[40]\ttraining's auc: 0.970821\tvalid_1's auc: 0.87218\n",
      "Early stopping, best iteration is:\n",
      "[2]\ttraining's auc: 0.936741\tvalid_1's auc: 0.906015\n",
      "=====================================\n",
      "Validation AUC:0.9060150375939849\n",
      "=====================================\n"
     ]
    },
    {
     "name": "stderr",
     "output_type": "stream",
     "text": [
      "\u001b[32m[I 2020-12-20 16:48:22,915]\u001b[0m Trial 23 finished with value: 0.9060150375939849 and parameters: {'learning_rate': 0.010028075572274678, 'colsample_bytree': 0.8400138073058714, 'subsample': 0.5071169831717103}. Best is trial 5 with value: 0.9210526315789475.\u001b[0m\n"
     ]
    },
    {
     "name": "stdout",
     "output_type": "stream",
     "text": [
      "Training until validation scores don't improve for 50 rounds\n",
      "[20]\ttraining's auc: 0.959119\tvalid_1's auc: 0.836466\n",
      "[40]\ttraining's auc: 0.969065\tvalid_1's auc: 0.853383\n",
      "[60]\ttraining's auc: 0.975355\tvalid_1's auc: 0.890977\n",
      "[80]\ttraining's auc: 0.977549\tvalid_1's auc: 0.898496\n",
      "[100]\ttraining's auc: 0.97945\tvalid_1's auc: 0.890977\n",
      "Did not meet early stopping. Best iteration is:\n",
      "[98]\ttraining's auc: 0.97945\tvalid_1's auc: 0.890977\n",
      "=====================================\n",
      "Validation AUC:0.8909774436090225\n",
      "=====================================\n"
     ]
    },
    {
     "name": "stderr",
     "output_type": "stream",
     "text": [
      "\u001b[32m[I 2020-12-20 16:48:24,009]\u001b[0m Trial 24 finished with value: 0.8909774436090225 and parameters: {'learning_rate': 0.010043392472654534, 'colsample_bytree': 0.748698242833366, 'subsample': 0.45356264109512295}. Best is trial 5 with value: 0.9210526315789475.\u001b[0m\n"
     ]
    },
    {
     "name": "stdout",
     "output_type": "stream",
     "text": [
      "Training until validation scores don't improve for 50 rounds\n",
      "[20]\ttraining's auc: 0.966067\tvalid_1's auc: 0.87594\n",
      "[40]\ttraining's auc: 0.973307\tvalid_1's auc: 0.890977\n",
      "[60]\ttraining's auc: 0.980474\tvalid_1's auc: 0.894737\n",
      "[80]\ttraining's auc: 0.983399\tvalid_1's auc: 0.906015\n",
      "[100]\ttraining's auc: 0.986105\tvalid_1's auc: 0.902256\n",
      "Did not meet early stopping. Best iteration is:\n",
      "[100]\ttraining's auc: 0.986105\tvalid_1's auc: 0.902256\n",
      "=====================================\n",
      "Validation AUC:0.9022556390977443\n",
      "=====================================\n"
     ]
    },
    {
     "name": "stderr",
     "output_type": "stream",
     "text": [
      "\u001b[32m[I 2020-12-20 16:48:25,261]\u001b[0m Trial 25 finished with value: 0.9022556390977443 and parameters: {'learning_rate': 0.017344657238993057, 'colsample_bytree': 0.9341218870299812, 'subsample': 0.6952496255306627}. Best is trial 5 with value: 0.9210526315789475.\u001b[0m\n"
     ]
    },
    {
     "name": "stdout",
     "output_type": "stream",
     "text": [
      "Training until validation scores don't improve for 50 rounds\n",
      "[20]\ttraining's auc: 0.970821\tvalid_1's auc: 0.890977\n",
      "[40]\ttraining's auc: 0.980474\tvalid_1's auc: 0.894737\n",
      "[60]\ttraining's auc: 0.984935\tvalid_1's auc: 0.902256\n",
      "[80]\ttraining's auc: 0.988884\tvalid_1's auc: 0.898496\n",
      "[100]\ttraining's auc: 0.992833\tvalid_1's auc: 0.898496\n",
      "Did not meet early stopping. Best iteration is:\n",
      "[99]\ttraining's auc: 0.992833\tvalid_1's auc: 0.898496\n",
      "=====================================\n",
      "Validation AUC:0.8984962406015038\n",
      "=====================================\n"
     ]
    },
    {
     "name": "stderr",
     "output_type": "stream",
     "text": [
      "\u001b[32m[I 2020-12-20 16:48:26,322]\u001b[0m Trial 26 finished with value: 0.8984962406015038 and parameters: {'learning_rate': 0.026704708686043722, 'colsample_bytree': 0.87599676636132, 'subsample': 0.5411716717803219}. Best is trial 5 with value: 0.9210526315789475.\u001b[0m\n"
     ]
    },
    {
     "name": "stdout",
     "output_type": "stream",
     "text": [
      "Training until validation scores don't improve for 50 rounds\n",
      "[20]\ttraining's auc: 0.957949\tvalid_1's auc: 0.853383\n",
      "[40]\ttraining's auc: 0.970309\tvalid_1's auc: 0.868421\n",
      "[60]\ttraining's auc: 0.976452\tvalid_1's auc: 0.879699\n",
      "[80]\ttraining's auc: 0.978938\tvalid_1's auc: 0.890977\n",
      "[100]\ttraining's auc: 0.98201\tvalid_1's auc: 0.887218\n",
      "Did not meet early stopping. Best iteration is:\n",
      "[98]\ttraining's auc: 0.98201\tvalid_1's auc: 0.890977\n",
      "=====================================\n",
      "Validation AUC:0.8909774436090224\n",
      "=====================================\n"
     ]
    },
    {
     "name": "stderr",
     "output_type": "stream",
     "text": [
      "\u001b[32m[I 2020-12-20 16:48:27,464]\u001b[0m Trial 27 finished with value: 0.8909774436090224 and parameters: {'learning_rate': 0.011461131366753852, 'colsample_bytree': 0.623617850350357, 'subsample': 0.4576168302915386}. Best is trial 5 with value: 0.9210526315789475.\u001b[0m\n"
     ]
    },
    {
     "name": "stdout",
     "output_type": "stream",
     "text": [
      "Training until validation scores don't improve for 50 rounds\n",
      "[20]\ttraining's auc: 0.977987\tvalid_1's auc: 0.902256\n",
      "[40]\ttraining's auc: 0.986544\tvalid_1's auc: 0.894737\n",
      "[60]\ttraining's auc: 0.991517\tvalid_1's auc: 0.906015\n",
      "[80]\ttraining's auc: 0.995758\tvalid_1's auc: 0.921053\n",
      "[100]\ttraining's auc: 0.997806\tvalid_1's auc: 0.913534\n",
      "Did not meet early stopping. Best iteration is:\n",
      "[100]\ttraining's auc: 0.997806\tvalid_1's auc: 0.913534\n",
      "=====================================\n",
      "Validation AUC:0.9135338345864662\n",
      "=====================================\n"
     ]
    },
    {
     "name": "stderr",
     "output_type": "stream",
     "text": [
      "\u001b[32m[I 2020-12-20 16:48:28,598]\u001b[0m Trial 28 finished with value: 0.9135338345864662 and parameters: {'learning_rate': 0.038900761866477576, 'colsample_bytree': 0.7880806829157138, 'subsample': 0.6160156356634937}. Best is trial 5 with value: 0.9210526315789475.\u001b[0m\n"
     ]
    },
    {
     "name": "stdout",
     "output_type": "stream",
     "text": [
      "Training until validation scores don't improve for 50 rounds\n",
      "[20]\ttraining's auc: 0.974331\tvalid_1's auc: 0.87218\n",
      "[40]\ttraining's auc: 0.980035\tvalid_1's auc: 0.906015\n",
      "[60]\ttraining's auc: 0.986836\tvalid_1's auc: 0.898496\n",
      "[80]\ttraining's auc: 0.989908\tvalid_1's auc: 0.906015\n",
      "Early stopping, best iteration is:\n",
      "[38]\ttraining's auc: 0.981205\tvalid_1's auc: 0.909774\n",
      "=====================================\n",
      "Validation AUC:0.9097744360902256\n",
      "=====================================\n"
     ]
    },
    {
     "name": "stderr",
     "output_type": "stream",
     "text": [
      "\u001b[32m[I 2020-12-20 16:48:29,796]\u001b[0m Trial 29 finished with value: 0.9097744360902256 and parameters: {'learning_rate': 0.02723908101053236, 'colsample_bytree': 0.6555897917305228, 'subsample': 0.8337125843659479}. Best is trial 5 with value: 0.9210526315789475.\u001b[0m\n"
     ]
    },
    {
     "name": "stdout",
     "output_type": "stream",
     "text": [
      "Training until validation scores don't improve for 50 rounds\n",
      "[20]\ttraining's auc: 0.975647\tvalid_1's auc: 0.879699\n",
      "[40]\ttraining's auc: 0.988591\tvalid_1's auc: 0.894737\n",
      "[60]\ttraining's auc: 0.994003\tvalid_1's auc: 0.913534\n",
      "[80]\ttraining's auc: 0.99766\tvalid_1's auc: 0.921053\n",
      "[100]\ttraining's auc: 0.999415\tvalid_1's auc: 0.906015\n",
      "Did not meet early stopping. Best iteration is:\n",
      "[100]\ttraining's auc: 0.999415\tvalid_1's auc: 0.906015\n",
      "=====================================\n",
      "Validation AUC:0.906015037593985\n",
      "=====================================\n"
     ]
    },
    {
     "name": "stderr",
     "output_type": "stream",
     "text": [
      "\u001b[32m[I 2020-12-20 16:48:30,952]\u001b[0m Trial 30 finished with value: 0.906015037593985 and parameters: {'learning_rate': 0.04773268434452678, 'colsample_bytree': 0.7163228839828573, 'subsample': 0.6672533547767582}. Best is trial 5 with value: 0.9210526315789475.\u001b[0m\n"
     ]
    },
    {
     "name": "stdout",
     "output_type": "stream",
     "text": [
      "Training until validation scores don't improve for 50 rounds\n",
      "[20]\ttraining's auc: 0.964897\tvalid_1's auc: 0.883459\n",
      "[40]\ttraining's auc: 0.979523\tvalid_1's auc: 0.883459\n",
      "Early stopping, best iteration is:\n",
      "[3]\ttraining's auc: 0.945663\tvalid_1's auc: 0.898496\n",
      "=====================================\n",
      "Validation AUC:0.8984962406015037\n",
      "=====================================\n"
     ]
    },
    {
     "name": "stderr",
     "output_type": "stream",
     "text": [
      "\u001b[32m[I 2020-12-20 16:48:32,012]\u001b[0m Trial 31 finished with value: 0.8984962406015037 and parameters: {'learning_rate': 0.03138850978861116, 'colsample_bytree': 0.5160079058647584, 'subsample': 0.4061395850406978}. Best is trial 5 with value: 0.9210526315789475.\u001b[0m\n"
     ]
    },
    {
     "name": "stdout",
     "output_type": "stream",
     "text": [
      "Training until validation scores don't improve for 50 rounds\n",
      "[20]\ttraining's auc: 0.985666\tvalid_1's auc: 0.894737\n",
      "[40]\ttraining's auc: 0.994149\tvalid_1's auc: 0.902256\n",
      "[60]\ttraining's auc: 0.999707\tvalid_1's auc: 0.909774\n",
      "[80]\ttraining's auc: 1\tvalid_1's auc: 0.902256\n",
      "[100]\ttraining's auc: 1\tvalid_1's auc: 0.894737\n",
      "Did not meet early stopping. Best iteration is:\n",
      "[69]\ttraining's auc: 1\tvalid_1's auc: 0.906015\n",
      "=====================================\n",
      "Validation AUC:0.906015037593985\n",
      "=====================================\n"
     ]
    },
    {
     "name": "stderr",
     "output_type": "stream",
     "text": [
      "\u001b[32m[I 2020-12-20 16:48:33,167]\u001b[0m Trial 32 finished with value: 0.906015037593985 and parameters: {'learning_rate': 0.08009158229415009, 'colsample_bytree': 0.5509460335167732, 'subsample': 0.4056580856612075}. Best is trial 5 with value: 0.9210526315789475.\u001b[0m\n"
     ]
    },
    {
     "name": "stdout",
     "output_type": "stream",
     "text": [
      "Training until validation scores don't improve for 50 rounds\n",
      "[20]\ttraining's auc: 0.979084\tvalid_1's auc: 0.890977\n",
      "[40]\ttraining's auc: 0.99532\tvalid_1's auc: 0.887218\n",
      "Early stopping, best iteration is:\n",
      "[3]\ttraining's auc: 0.945225\tvalid_1's auc: 0.906015\n",
      "=====================================\n",
      "Validation AUC:0.9060150375939849\n",
      "=====================================\n"
     ]
    },
    {
     "name": "stderr",
     "output_type": "stream",
     "text": [
      "\u001b[32m[I 2020-12-20 16:48:34,194]\u001b[0m Trial 33 finished with value: 0.9060150375939849 and parameters: {'learning_rate': 0.09446865238433827, 'colsample_bytree': 0.4797597702031502, 'subsample': 0.5054281992888205}. Best is trial 5 with value: 0.9210526315789475.\u001b[0m\n"
     ]
    },
    {
     "name": "stdout",
     "output_type": "stream",
     "text": [
      "Training until validation scores don't improve for 50 rounds\n",
      "[20]\ttraining's auc: 0.976452\tvalid_1's auc: 0.87218\n",
      "[40]\ttraining's auc: 0.990493\tvalid_1's auc: 0.890977\n",
      "[60]\ttraining's auc: 0.996636\tvalid_1's auc: 0.883459\n",
      "[80]\ttraining's auc: 0.999415\tvalid_1's auc: 0.887218\n",
      "Early stopping, best iteration is:\n",
      "[30]\ttraining's auc: 0.98786\tvalid_1's auc: 0.902256\n",
      "=====================================\n",
      "Validation AUC:0.9022556390977444\n",
      "=====================================\n"
     ]
    },
    {
     "name": "stderr",
     "output_type": "stream",
     "text": [
      "\u001b[32m[I 2020-12-20 16:48:35,514]\u001b[0m Trial 34 finished with value: 0.9022556390977444 and parameters: {'learning_rate': 0.0626828153207858, 'colsample_bytree': 0.5941152476436451, 'subsample': 0.9726327449362198}. Best is trial 5 with value: 0.9210526315789475.\u001b[0m\n"
     ]
    },
    {
     "name": "stdout",
     "output_type": "stream",
     "text": [
      "Training until validation scores don't improve for 50 rounds\n",
      "[20]\ttraining's auc: 0.969431\tvalid_1's auc: 0.857143\n",
      "[40]\ttraining's auc: 0.979377\tvalid_1's auc: 0.887218\n",
      "Early stopping, best iteration is:\n",
      "[2]\ttraining's auc: 0.941568\tvalid_1's auc: 0.911654\n",
      "=====================================\n",
      "Validation AUC:0.9116541353383458\n",
      "=====================================\n"
     ]
    },
    {
     "name": "stderr",
     "output_type": "stream",
     "text": [
      "\u001b[32m[I 2020-12-20 16:48:36,787]\u001b[0m Trial 35 finished with value: 0.9116541353383458 and parameters: {'learning_rate': 0.0161729272396665, 'colsample_bytree': 0.45270494148222873, 'subsample': 0.43860601615042444}. Best is trial 5 with value: 0.9210526315789475.\u001b[0m\n"
     ]
    },
    {
     "name": "stdout",
     "output_type": "stream",
     "text": [
      "Training until validation scores don't improve for 50 rounds\n",
      "[20]\ttraining's auc: 0.9638\tvalid_1's auc: 0.857143\n",
      "[40]\ttraining's auc: 0.972283\tvalid_1's auc: 0.864662\n",
      "[60]\ttraining's auc: 0.977549\tvalid_1's auc: 0.898496\n",
      "[80]\ttraining's auc: 0.979743\tvalid_1's auc: 0.906015\n",
      "[100]\ttraining's auc: 0.982595\tvalid_1's auc: 0.902256\n",
      "Did not meet early stopping. Best iteration is:\n",
      "[98]\ttraining's auc: 0.982741\tvalid_1's auc: 0.898496\n",
      "=====================================\n",
      "Validation AUC:0.8984962406015037\n",
      "=====================================\n"
     ]
    },
    {
     "name": "stderr",
     "output_type": "stream",
     "text": [
      "\u001b[32m[I 2020-12-20 16:48:38,346]\u001b[0m Trial 36 finished with value: 0.8984962406015037 and parameters: {'learning_rate': 0.01173219649284997, 'colsample_bytree': 0.64613351220743, 'subsample': 0.47903076008359685}. Best is trial 5 with value: 0.9210526315789475.\u001b[0m\n"
     ]
    },
    {
     "name": "stdout",
     "output_type": "stream",
     "text": [
      "Training until validation scores don't improve for 50 rounds\n",
      "[20]\ttraining's auc: 0.985081\tvalid_1's auc: 0.87218\n",
      "[40]\ttraining's auc: 0.996197\tvalid_1's auc: 0.909774\n",
      "Early stopping, best iteration is:\n",
      "[2]\ttraining's auc: 0.936888\tvalid_1's auc: 0.913534\n",
      "=====================================\n",
      "Validation AUC:0.9135338345864662\n",
      "=====================================\n"
     ]
    },
    {
     "name": "stderr",
     "output_type": "stream",
     "text": [
      "\u001b[32m[I 2020-12-20 16:48:39,616]\u001b[0m Trial 37 finished with value: 0.9135338345864662 and parameters: {'learning_rate': 0.08586337681168602, 'colsample_bytree': 0.8338092003510462, 'subsample': 0.558474310039239}. Best is trial 5 with value: 0.9210526315789475.\u001b[0m\n"
     ]
    },
    {
     "name": "stdout",
     "output_type": "stream",
     "text": [
      "Training until validation scores don't improve for 50 rounds\n",
      "[20]\ttraining's auc: 0.964385\tvalid_1's auc: 0.860902\n",
      "[40]\ttraining's auc: 0.973307\tvalid_1's auc: 0.868421\n",
      "[60]\ttraining's auc: 0.976964\tvalid_1's auc: 0.887218\n",
      "[80]\ttraining's auc: 0.979011\tvalid_1's auc: 0.894737\n",
      "[100]\ttraining's auc: 0.983619\tvalid_1's auc: 0.906015\n",
      "Did not meet early stopping. Best iteration is:\n",
      "[98]\ttraining's auc: 0.983765\tvalid_1's auc: 0.902256\n",
      "=====================================\n",
      "Validation AUC:0.9022556390977443\n",
      "=====================================\n"
     ]
    },
    {
     "name": "stderr",
     "output_type": "stream",
     "text": [
      "\u001b[32m[I 2020-12-20 16:48:40,882]\u001b[0m Trial 38 finished with value: 0.9022556390977443 and parameters: {'learning_rate': 0.01285573635448991, 'colsample_bytree': 0.6981101641465832, 'subsample': 0.598703668098904}. Best is trial 5 with value: 0.9210526315789475.\u001b[0m\n"
     ]
    },
    {
     "name": "stdout",
     "output_type": "stream",
     "text": [
      "Training until validation scores don't improve for 50 rounds\n",
      "[20]\ttraining's auc: 0.977695\tvalid_1's auc: 0.894737\n",
      "[40]\ttraining's auc: 0.988738\tvalid_1's auc: 0.890977\n",
      "[60]\ttraining's auc: 0.994149\tvalid_1's auc: 0.902256\n",
      "[80]\ttraining's auc: 0.997367\tvalid_1's auc: 0.921053\n",
      "[100]\ttraining's auc: 0.999269\tvalid_1's auc: 0.913534\n",
      "Did not meet early stopping. Best iteration is:\n",
      "[100]\ttraining's auc: 0.999269\tvalid_1's auc: 0.913534\n",
      "=====================================\n",
      "Validation AUC:0.9135338345864661\n",
      "=====================================\n"
     ]
    },
    {
     "name": "stderr",
     "output_type": "stream",
     "text": [
      "\u001b[32m[I 2020-12-20 16:48:42,135]\u001b[0m Trial 39 finished with value: 0.9135338345864661 and parameters: {'learning_rate': 0.044358476903108804, 'colsample_bytree': 0.7617131228746111, 'subsample': 0.7467523870939182}. Best is trial 5 with value: 0.9210526315789475.\u001b[0m\n"
     ]
    },
    {
     "name": "stdout",
     "output_type": "stream",
     "text": [
      "AUC: 0.9210526315789475\n",
      "Best hyperparameters: {'learning_rate': 0.04980680386446043, 'colsample_bytree': 0.6734515470523221, 'subsample': 0.4965623082097034}\n"
     ]
    }
   ],
   "source": [
    "# Create a study object and optimize the objective function.\n",
    "study = optuna.create_study(direction='maximize')\n",
    "study.optimize(objective, n_trials=40)\n",
    "trial = study.best_trial\n",
    "print('AUC: {}'.format(trial.value))\n",
    "print(\"Best hyperparameters: {}\".format(trial.params))"
   ]
  },
  {
   "cell_type": "markdown",
   "metadata": {},
   "source": [
    "## Load best lightgbm model\n",
    "\n",
    "Check Mlflow UI and pick the best model for model deployment"
   ]
  },
  {
   "cell_type": "code",
   "execution_count": 11,
   "metadata": {},
   "outputs": [
    {
     "data": {
      "text/plain": [
       "array([0, 1, 0, 0, 0, 1, 0, 0, 0, 0, 0, 0, 0, 0, 1, 1, 0, 0, 0, 1, 0, 0,\n",
       "       0, 1, 1, 0, 0, 0, 0, 0, 0, 1, 1], dtype=int64)"
      ]
     },
     "execution_count": 11,
     "metadata": {},
     "output_type": "execute_result"
    }
   ],
   "source": [
    "# Load best model\n",
    "lgb_best_model = mlflow.sklearn.load_model(\"./mlflow-run/6ffb67cfcd87414a961bcdd0b69c04b0/artifacts/model\")\n",
    "\n",
    "# Make prediction aganist Validation data\n",
    "lgb_best_val_prediction = lgb_best_model.predict(X_valid)\n",
    "lgb_best_val_prediction"
   ]
  },
  {
   "cell_type": "markdown",
   "metadata": {},
   "source": [
    "## Reference\n",
    "\n",
    "### Model experimentation\n",
    "https://www.mlflow.org/docs/latest/tracking.html#\n",
    "\n",
    "### Hyperparameter Optimization\n",
    "https://github.com/optuna/optuna"
   ]
  }
 ],
 "metadata": {
  "kernelspec": {
   "display_name": "mlflow-kernel",
   "language": "python",
   "name": "env-mlflow"
  },
  "language_info": {
   "codemirror_mode": {
    "name": "ipython",
    "version": 3
   },
   "file_extension": ".py",
   "mimetype": "text/x-python",
   "name": "python",
   "nbconvert_exporter": "python",
   "pygments_lexer": "ipython3",
   "version": "3.8.6"
  }
 },
 "nbformat": 4,
 "nbformat_minor": 4
}
