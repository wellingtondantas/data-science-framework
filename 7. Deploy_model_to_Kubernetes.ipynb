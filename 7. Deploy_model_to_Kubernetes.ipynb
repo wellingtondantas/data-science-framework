{
 "cells": [
  {
   "cell_type": "markdown",
   "metadata": {},
   "source": [
    "# Deploy model API to Kubernetes"
   ]
  },
  {
   "cell_type": "markdown",
   "metadata": {},
   "source": [
    "## Create a docker registry secret\n",
    "\n",
    "This will allow kubernetes to pull images from docker hub (Public repository)"
   ]
  },
  {
   "cell_type": "code",
   "execution_count": 107,
   "metadata": {},
   "outputs": [
    {
     "name": "stdout",
     "output_type": "stream",
     "text": [
      "secret/registry-credentials created\n"
     ]
    }
   ],
   "source": [
    "DOCKER_REGISTRY_SERVER='docker.io'\n",
    "DOCKER_USER='xxxxxxxxx'\n",
    "DOCKER_EMAIL='xxxxxxxxxxxxxxxxxxxxxxx'\n",
    "DOCKER_PASSWORD='xxxxxxxxxxxxx'\n",
    "\n",
    "!kubectl create secret docker-registry registry-credentials \\\n",
    "  --docker-server=$DOCKER_REGISTRY_SERVER \\\n",
    "  --docker-username=$DOCKER_USER \\\n",
    "  --docker-password=$DOCKER_PASSWORD \\\n",
    "  --docker-email=$DOCKER_EMAIL"
   ]
  },
  {
   "cell_type": "markdown",
   "metadata": {},
   "source": [
    "## Create deployments and pods\n",
    "\n",
    "A Kubernetes deployment is a resource object in Kubernetes that provides declarative updates to applications. A deployment allows you to describe an application’s life cycle, such as which images to use for the app, the number of pods there should be, and the way in which they should be updated. \n",
    "\n",
    "A Kubernetes object is a way to tell the Kubernetes system how you want your cluster’s workload to look. After an object has been created, the cluster works to ensure that the object exists, maintaining the desired state of your Kubernetes cluster. \n",
    "\n",
    "A deployment ensures the desired number of pods are running and available at all times.\n",
    "\n",
    "See more details @ https://www.redhat.com/en/topics/containers/what-is-kubernetes-deployment"
   ]
  },
  {
   "cell_type": "code",
   "execution_count": 1,
   "metadata": {},
   "outputs": [
    {
     "name": "stdout",
     "output_type": "stream",
     "text": [
      "\u001b[94mapiVersion\u001b[39;49;00m: apps/v1\n",
      "\u001b[94mkind\u001b[39;49;00m: Deployment\n",
      "\u001b[94mmetadata\u001b[39;49;00m:\n",
      "    \u001b[94mlabels\u001b[39;49;00m:\n",
      "        \u001b[94mapp\u001b[39;49;00m: placement-classifier-ml-api\n",
      "    \u001b[94mname\u001b[39;49;00m: placement-classifier-ml\n",
      "    \u001b[94mnamespace\u001b[39;49;00m: fastapi-app-dev\n",
      "\u001b[94mspec\u001b[39;49;00m:\n",
      "    \u001b[94mreplicas\u001b[39;49;00m: 1\n",
      "    \u001b[94mselector\u001b[39;49;00m:\n",
      "        \u001b[94mmatchLabels\u001b[39;49;00m:\n",
      "            \u001b[94mapp\u001b[39;49;00m: placement-classifier\n",
      "    \u001b[94mtemplate\u001b[39;49;00m:\n",
      "        \u001b[94mmetadata\u001b[39;49;00m:\n",
      "            \u001b[94mlabels\u001b[39;49;00m:\n",
      "                \u001b[94mapp\u001b[39;49;00m: placement-classifier\n",
      "        \u001b[94mspec\u001b[39;49;00m:\n",
      "            \u001b[94mcontainers\u001b[39;49;00m:\n",
      "            - \u001b[94mimage\u001b[39;49;00m: kumarvc/fastapi-placement-classifier:1.0.2\n",
      "              \u001b[94mimagePullPolicy\u001b[39;49;00m: IfNotPresent\n",
      "              \u001b[94mname\u001b[39;49;00m: placement-classifier-container\n",
      "              \u001b[94mports\u001b[39;49;00m:\n",
      "              - \u001b[94mcontainerPort\u001b[39;49;00m: 80\n",
      "            \u001b[94mimagePullSecrets\u001b[39;49;00m:\n",
      "            - \u001b[94mname\u001b[39;49;00m: registry-credentials\n"
     ]
    }
   ],
   "source": [
    "!pygmentize ./kubernetes/kubernetes_API_deployment.yaml"
   ]
  },
  {
   "cell_type": "code",
   "execution_count": 1,
   "metadata": {},
   "outputs": [
    {
     "name": "stdout",
     "output_type": "stream",
     "text": [
      "deployment.apps/placement-classifier-ml created\n"
     ]
    }
   ],
   "source": [
    "!kubectl create -f ./kubernetes/kubernetes_API_deployment.yaml"
   ]
  },
  {
   "cell_type": "code",
   "execution_count": 17,
   "metadata": {},
   "outputs": [
    {
     "name": "stdout",
     "output_type": "stream",
     "text": [
      "pod \"placement-classifier-ml-7fb9fd7946-kzzbn\" deleted\n"
     ]
    }
   ],
   "source": [
    "!kubectl delete pods placement-classifier-ml-7fb9fd7946-kzzbn -n fastapi-app-dev"
   ]
  },
  {
   "cell_type": "code",
   "execution_count": 31,
   "metadata": {},
   "outputs": [
    {
     "name": "stdout",
     "output_type": "stream",
     "text": [
      "NAME                                       READY   STATUS    RESTARTS   AGE\n",
      "placement-classifier-ml-7fb9fd7946-fqlgv   1/1     Running   0          3m28s\n"
     ]
    }
   ],
   "source": [
    "!kubectl get pods -n fastapi-app-dev"
   ]
  },
  {
   "cell_type": "code",
   "execution_count": 30,
   "metadata": {},
   "outputs": [
    {
     "name": "stdout",
     "output_type": "stream",
     "text": [
      "Name:         placement-classifier-ml-7fb9fd7946-fqlgv\n",
      "Namespace:    fastapi-app-dev\n",
      "Priority:     0\n",
      "Node:         placement-classifier-worker/172.18.0.3\n",
      "Start Time:   Wed, 06 Jan 2021 12:41:01 +0530\n",
      "Labels:       app=placement-classifier\n",
      "              pod-template-hash=7fb9fd7946\n",
      "Annotations:  <none>\n",
      "Status:       Running\n",
      "IP:           10.244.2.2\n",
      "IPs:\n",
      "  IP:           10.244.2.2\n",
      "Controlled By:  ReplicaSet/placement-classifier-ml-7fb9fd7946\n",
      "Containers:\n",
      "  placement-classifier-container:\n",
      "    Container ID:   containerd://0844ec3a16f9be675e66cf3ab443b94ad1051b69413386442f0aeac377d0c354\n",
      "    Image:          kumarvc/fastapi-placement-classifier:1.0.2\n",
      "    Image ID:       docker.io/kumarvc/fastapi-placement-classifier@sha256:a613bc9dd0837701b059f9959d5404aed46948a1783097e0c1f0ea287ba628e2\n",
      "    Port:           80/TCP\n",
      "    Host Port:      0/TCP\n",
      "    State:          Running\n",
      "      Started:      Wed, 06 Jan 2021 12:44:06 +0530\n",
      "    Ready:          True\n",
      "    Restart Count:  0\n",
      "    Environment:    <none>\n",
      "    Mounts:\n",
      "      /var/run/secrets/kubernetes.io/serviceaccount from default-token-p9pmx (ro)\n",
      "Conditions:\n",
      "  Type              Status\n",
      "  Initialized       True \n",
      "  Ready             True \n",
      "  ContainersReady   True \n",
      "  PodScheduled      True \n",
      "Volumes:\n",
      "  default-token-p9pmx:\n",
      "    Type:        Secret (a volume populated by a Secret)\n",
      "    SecretName:  default-token-p9pmx\n",
      "    Optional:    false\n",
      "QoS Class:       BestEffort\n",
      "Node-Selectors:  <none>\n",
      "Tolerations:     node.kubernetes.io/not-ready:NoExecute op=Exists for 300s\n",
      "                 node.kubernetes.io/unreachable:NoExecute op=Exists for 300s\n",
      "Events:\n",
      "  Type    Reason     Age    From                                  Message\n",
      "  ----    ------     ----   ----                                  -------\n",
      "  Normal  Scheduled  3m16s  default-scheduler                     Successfully assigned fastapi-app-dev/placement-classifier-ml-7fb9fd7946-fqlgv to placement-classifier-worker\n",
      "  Normal  Pulling    2m51s  kubelet, placement-classifier-worker  Pulling image \"kumarvc/fastapi-placement-classifier:1.0.2\"\n",
      "  Normal  Pulled     12s    kubelet, placement-classifier-worker  Successfully pulled image \"kumarvc/fastapi-placement-classifier:1.0.2\" in 2m38.706232324s\n",
      "  Normal  Created    8s     kubelet, placement-classifier-worker  Created container placement-classifier-container\n",
      "  Normal  Started    8s     kubelet, placement-classifier-worker  Started container placement-classifier-container\n"
     ]
    }
   ],
   "source": [
    "!kubectl describe pods placement-classifier-ml-7fb9fd7946-fqlgv -n fastapi-app-dev"
   ]
  },
  {
   "cell_type": "markdown",
   "metadata": {},
   "source": [
    "## Create Service for accessing ML Service\n",
    "\n",
    "A Kubernetes service is a logical abstraction for a deployed group of pods in a cluster. Since pods are ephemeral, a service enables a group of pods, which provide specific functions (REST prediction services) to be assigned a name and unique IP address.\n",
    "\n",
    "For now, Service type has been defined as NodePort, so that you can access ML service with the help of node IP and nodeport (i.e defined in the kubernetes_API_service.yaml)\n",
    "\n",
    "For real ML Service, service type must be defined as LoadBalancer so that request could be routed to any pods running in any of the available nodes\n",
    "\n",
    "**Few importance concepts**\n",
    "1) Port:  This expose kubernetes service on specified port within the cluster. Other pods within cluster can communicate with this on the specified port\n",
    "\n",
    "2) TargetPort: This is the targetport on which service will send request to the running container inside the pod. Application running inside container will be listening on this port\n",
    "\n",
    "3) NodePort: This is used to expose service externally to the cluster by the means of target nodeIP address. "
   ]
  },
  {
   "cell_type": "code",
   "execution_count": 2,
   "metadata": {},
   "outputs": [
    {
     "name": "stdout",
     "output_type": "stream",
     "text": [
      "\u001b[94mapiVersion\u001b[39;49;00m: v1\n",
      "\u001b[94mkind\u001b[39;49;00m: Service\n",
      "\u001b[94mmetadata\u001b[39;49;00m:\n",
      "    \u001b[94mlabels\u001b[39;49;00m:\n",
      "        \u001b[94mapp\u001b[39;49;00m: placement-classifier-svc\n",
      "    \u001b[94mname\u001b[39;49;00m: placement-classifier-svc\n",
      "    \u001b[94mnamespace\u001b[39;49;00m: fastapi-app-dev\n",
      "\u001b[94mspec\u001b[39;49;00m:\n",
      "    \u001b[94mports\u001b[39;49;00m:\n",
      "    - \u001b[94mname\u001b[39;49;00m: predict\n",
      "      \u001b[94mnodePort\u001b[39;49;00m: 30000\n",
      "      \u001b[94mport\u001b[39;49;00m: 80\n",
      "      \u001b[94mtargetPort\u001b[39;49;00m: 80\n",
      "    \u001b[94mselector\u001b[39;49;00m:\n",
      "      \u001b[94mapp\u001b[39;49;00m: placement-classifier\n",
      "    \u001b[94mtype\u001b[39;49;00m: NodePort\n"
     ]
    }
   ],
   "source": [
    "!pygmentize ./kubernetes/kubernetes_API_service.yaml"
   ]
  },
  {
   "cell_type": "code",
   "execution_count": 5,
   "metadata": {},
   "outputs": [
    {
     "name": "stdout",
     "output_type": "stream",
     "text": [
      "service/placement-classifier-svc created\n"
     ]
    }
   ],
   "source": [
    "!kubectl create -f ./kubernetes/kubernetes_API_service.yaml"
   ]
  },
  {
   "cell_type": "code",
   "execution_count": 6,
   "metadata": {},
   "outputs": [
    {
     "name": "stdout",
     "output_type": "stream",
     "text": [
      "NAME         TYPE        CLUSTER-IP   EXTERNAL-IP   PORT(S)   AGE\n",
      "kubernetes   ClusterIP   10.96.0.1    <none>        443/TCP   159m\n"
     ]
    }
   ],
   "source": [
    "!kubectl get svc"
   ]
  },
  {
   "cell_type": "markdown",
   "metadata": {},
   "source": [
    "## Send request to FastAPI model server running on Kubernetes\n",
    "\n",
    "The Fast API server also provides a simple web UI dashboard (Swagger). Go to http://172.18.0.6:30000/docs in the browser and use the Web UI to send prediction request. \n",
    "\n",
    "**Note** Replace IP address from the kubernetes node ip (INTERNAL-IP). "
   ]
  },
  {
   "cell_type": "code",
   "execution_count": 18,
   "metadata": {},
   "outputs": [
    {
     "name": "stdout",
     "output_type": "stream",
     "text": [
      "NAME                                 STATUS   ROLES    AGE   VERSION   INTERNAL-IP   EXTERNAL-IP   OS-IMAGE                                     KERNEL-VERSION     CONTAINER-RUNTIME\n",
      "placement-classifier-control-plane   Ready    master   54m   v1.19.1   172.18.0.5    <none>        Ubuntu Groovy Gorilla (development branch)   5.4.0-59-generic   containerd://1.4.0\n",
      "placement-classifier-worker          Ready    <none>   50m   v1.19.1   172.18.0.3    <none>        Ubuntu Groovy Gorilla (development branch)   5.4.0-59-generic   containerd://1.4.0\n",
      "placement-classifier-worker2         Ready    <none>   50m   v1.19.1   172.18.0.7    <none>        Ubuntu Groovy Gorilla (development branch)   5.4.0-59-generic   containerd://1.4.0\n"
     ]
    }
   ],
   "source": [
    "!kubectl get nodes -o wide"
   ]
  },
  {
   "cell_type": "markdown",
   "metadata": {},
   "source": [
    "## Check kubernetes logs to ensure ML API has started running"
   ]
  },
  {
   "cell_type": "code",
   "execution_count": 8,
   "metadata": {},
   "outputs": [
    {
     "name": "stdout",
     "output_type": "stream",
     "text": [
      "Checking for script in /app/prestart.sh\n",
      "Running script /app/prestart.sh\n",
      "Running inside /app/prestart.sh, you could add migrations to this file, e.g.:\n",
      "\n",
      "#! /usr/bin/env bash\n",
      "\n",
      "# Let the DB start\n",
      "sleep 10;\n",
      "# Run migrations\n",
      "alembic upgrade head\n",
      "\n",
      "[2021-01-06 07:00:58 +0000] [1] [INFO] Starting gunicorn 20.0.4\n",
      "[2021-01-06 07:00:58 +0000] [1] [INFO] Listening at: http://0.0.0.0:80 (1)\n",
      "[2021-01-06 07:00:58 +0000] [1] [INFO] Using worker: uvicorn.workers.UvicornWorker\n",
      "[2021-01-06 07:00:58 +0000] [8] [INFO] Booting worker with pid: 8\n",
      "[2021-01-06 07:00:58 +0000] [9] [INFO] Booting worker with pid: 9\n",
      "[2021-01-06 07:00:58 +0000] [10] [INFO] Booting worker with pid: 10\n",
      "[2021-01-06 07:01:21 +0000] [9] [INFO] Started server process [9]\n",
      "[2021-01-06 07:01:21 +0000] [10] [INFO] Started server process [10]\n",
      "[2021-01-06 07:01:21 +0000] [10] [INFO] Waiting for application startup.\n",
      "[2021-01-06 07:01:21 +0000] [9] [INFO] Waiting for application startup.\n",
      "[2021-01-06 07:01:21 +0000] [8] [INFO] Started server process [8]\n",
      "[2021-01-06 07:01:21 +0000] [8] [INFO] Waiting for application startup.\n",
      "[2021-01-06 07:01:21 +0000] [9] [INFO] Application startup complete.\n",
      "[2021-01-06 07:01:21 +0000] [10] [INFO] Application startup complete.\n",
      "[2021-01-06 07:01:21 +0000] [8] [INFO] Application startup complete.\n",
      "{\"loglevel\": \"info\", \"workers\": 3, \"bind\": \"0.0.0.0:80\", \"graceful_timeout\": 120, \"timeout\": 120, \"keepalive\": 5, \"errorlog\": \"-\", \"accesslog\": \"-\", \"workers_per_core\": 1.0, \"use_max_workers\": null, \"host\": \"0.0.0.0\", \"port\": \"80\"}\n",
      "172.18.0.3:6451 - \"GET /docs HTTP/1.1\" 200\n",
      "172.18.0.3:6451 - \"GET /openapi.json HTTP/1.1\" 200\n"
     ]
    }
   ],
   "source": [
    "!kubectl logs placement-classifier-ml-7fb9fd7946-kzzbn -n fastapi-app-dev"
   ]
  },
  {
   "cell_type": "markdown",
   "metadata": {},
   "source": [
    "### Send test request from Python program"
   ]
  },
  {
   "cell_type": "code",
   "execution_count": 9,
   "metadata": {},
   "outputs": [
    {
     "name": "stdout",
     "output_type": "stream",
     "text": [
      "{\"prediction\":[\"Placed\"]}\n"
     ]
    }
   ],
   "source": [
    "import requests\n",
    "data = {\n",
    "  \"sl_no\": 112,\n",
    "  \"ssc_p\": 84.0,\n",
    "  \"hsc_p\": 90.9,\n",
    "  \"degree_p\": 64.5,\n",
    "  \"etest_p\": 86.04,\n",
    "  \"mba_p\": 59.42,\n",
    "  \"gender\": \"M\",\n",
    "  \"ssc_b\": \"Others\",\n",
    "  \"hsc_b\": \"Others\",\n",
    "  \"hsc_s\": \"Science\",\n",
    "  \"degree_t\": \"Sci&Tech\",\n",
    "  \"workex\": \"No\",\n",
    "  \"specialisation\": \"Mkt&Fin\"\n",
    "}\n",
    "response = requests.post(\"http://172.18.0.3:30000/predict\", json=data)\n",
    "print(response.text)"
   ]
  },
  {
   "cell_type": "code",
   "execution_count": 10,
   "metadata": {},
   "outputs": [
    {
     "name": "stdout",
     "output_type": "stream",
     "text": [
      "{\"prediction\":[\"Not Placed\"]}\n"
     ]
    }
   ],
   "source": [
    "data = {\n",
    "  \"sl_no\": 113,\n",
    "  \"ssc_p\": 52.0,\n",
    "  \"hsc_p\": 57.0,\n",
    "  \"degree_p\": 50.8,\n",
    "  \"etest_p\": 67.0,\n",
    "  \"mba_p\": 62.79,\n",
    "  \"gender\": \"M\",\n",
    "  \"ssc_b\": \"Central\",\n",
    "  \"hsc_b\": \"Central\",\n",
    "  \"hsc_s\": \"Commerce\",\n",
    "  \"degree_t\": \"Comm&Mgmt\",\n",
    "  \"workex\": \"No\",\n",
    "  \"specialisation\": \"Mkt&HR\"\n",
    "}\n",
    "response = requests.post(\"http://172.18.0.3:30000/predict\", json=data)\n",
    "print(response.text)"
   ]
  },
  {
   "cell_type": "markdown",
   "metadata": {},
   "source": [
    "## Check kubernetes logs to ensure request has been received"
   ]
  },
  {
   "cell_type": "code",
   "execution_count": 14,
   "metadata": {},
   "outputs": [
    {
     "name": "stdout",
     "output_type": "stream",
     "text": [
      "Checking for script in /app/prestart.sh\n",
      "Running script /app/prestart.sh\n",
      "Running inside /app/prestart.sh, you could add migrations to this file, e.g.:\n",
      "\n",
      "#! /usr/bin/env bash\n",
      "\n",
      "# Let the DB start\n",
      "sleep 10;\n",
      "# Run migrations\n",
      "alembic upgrade head\n",
      "\n",
      "[2021-01-06 07:00:58 +0000] [1] [INFO] Starting gunicorn 20.0.4\n",
      "[2021-01-06 07:00:58 +0000] [1] [INFO] Listening at: http://0.0.0.0:80 (1)\n",
      "[2021-01-06 07:00:58 +0000] [1] [INFO] Using worker: uvicorn.workers.UvicornWorker\n",
      "[2021-01-06 07:00:58 +0000] [8] [INFO] Booting worker with pid: 8\n",
      "[2021-01-06 07:00:58 +0000] [9] [INFO] Booting worker with pid: 9\n",
      "[2021-01-06 07:00:58 +0000] [10] [INFO] Booting worker with pid: 10\n",
      "[2021-01-06 07:01:21 +0000] [9] [INFO] Started server process [9]\n",
      "[2021-01-06 07:01:21 +0000] [10] [INFO] Started server process [10]\n",
      "[2021-01-06 07:01:21 +0000] [10] [INFO] Waiting for application startup.\n",
      "[2021-01-06 07:01:21 +0000] [9] [INFO] Waiting for application startup.\n",
      "[2021-01-06 07:01:21 +0000] [8] [INFO] Started server process [8]\n",
      "[2021-01-06 07:01:21 +0000] [8] [INFO] Waiting for application startup.\n",
      "[2021-01-06 07:01:21 +0000] [9] [INFO] Application startup complete.\n",
      "[2021-01-06 07:01:21 +0000] [10] [INFO] Application startup complete.\n",
      "[2021-01-06 07:01:21 +0000] [8] [INFO] Application startup complete.\n",
      "{\"loglevel\": \"info\", \"workers\": 3, \"bind\": \"0.0.0.0:80\", \"graceful_timeout\": 120, \"timeout\": 120, \"keepalive\": 5, \"errorlog\": \"-\", \"accesslog\": \"-\", \"workers_per_core\": 1.0, \"use_max_workers\": null, \"host\": \"0.0.0.0\", \"port\": \"80\"}\n",
      "172.18.0.3:6451 - \"GET /docs HTTP/1.1\" 200\n",
      "172.18.0.3:6451 - \"GET /openapi.json HTTP/1.1\" 200\n",
      "172.18.0.3:43201 - \"POST /predict HTTP/1.1\" 200\n",
      "172.18.0.3:6067 - \"POST /predict HTTP/1.1\" 200\n",
      "{\"loglevel\": \"info\", \"workers\": 3, \"bind\": \"0.0.0.0:80\", \"graceful_timeout\": 120, \"timeout\": 120, \"keepalive\": 5, \"errorlog\": \"-\", \"accesslog\": \"-\", \"workers_per_core\": 1.0, \"use_max_workers\": null, \"host\": \"0.0.0.0\", \"port\": \"80\"}\n",
      "172.18.0.3:37814 - \"POST /predict HTTP/1.1\" 200\n",
      "172.18.0.3:12358 - \"POST /predict HTTP/1.1\" 200\n"
     ]
    }
   ],
   "source": [
    "!kubectl logs placement-classifier-ml-7fb9fd7946-kzzbn -n fastapi-app-dev"
   ]
  },
  {
   "cell_type": "code",
   "execution_count": null,
   "metadata": {},
   "outputs": [],
   "source": []
  }
 ],
 "metadata": {
  "kernelspec": {
   "display_name": "kubernetes-cluster-kernel",
   "language": "python",
   "name": "kubernetes"
  },
  "language_info": {
   "codemirror_mode": {
    "name": "ipython",
    "version": 3
   },
   "file_extension": ".py",
   "mimetype": "text/x-python",
   "name": "python",
   "nbconvert_exporter": "python",
   "pygments_lexer": "ipython3",
   "version": "3.8.5"
  }
 },
 "nbformat": 4,
 "nbformat_minor": 4
}
