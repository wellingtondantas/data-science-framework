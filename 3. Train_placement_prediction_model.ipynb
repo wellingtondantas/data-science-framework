{
 "cells": [
  {
   "cell_type": "markdown",
   "metadata": {
    "id": "FQr7W0gHGj9D"
   },
   "source": [
    "# Import Packages"
   ]
  },
  {
   "cell_type": "code",
   "execution_count": 1,
   "metadata": {},
   "outputs": [],
   "source": [
    "## Data Analysis packages\n",
    "import os\n",
    "import sys\n",
    "import numpy as np\n",
    "import pandas as pd\n",
    "import joblib\n",
    "\n",
    "## Machine learning packages\n",
    "import sklearn\n",
    "import lightgbm as lgb\n",
    "from sklearn.model_selection import train_test_split\n",
    "from lightgbm import LGBMClassifier\n",
    "from sklearn.metrics import classification_report, roc_curve, auc\n",
    "from category_encoders import OrdinalEncoder\n",
    "\n",
    "import warnings \n",
    "warnings.filterwarnings(\"ignore\")"
   ]
  },
  {
   "cell_type": "code",
   "execution_count": 2,
   "metadata": {},
   "outputs": [
    {
     "name": "stdout",
     "output_type": "stream",
     "text": [
      "Pandas Version: 1.1.5\n",
      "Numpy Version: 1.19.4\n",
      "scikit-learn Version: 0.24.0\n",
      "joblib Version: 1.0.0\n",
      "lightgbm Version: 3.1.1\n"
     ]
    }
   ],
   "source": [
    "print(f\"Pandas Version: {pd.__version__}\")\n",
    "print(f\"Numpy Version: {np.__version__}\")\n",
    "print(f\"scikit-learn Version: {sklearn.__version__}\")\n",
    "print(f\"joblib Version: {joblib.__version__}\")\n",
    "print(f\"lightgbm Version: {lgb.__version__}\")"
   ]
  },
  {
   "cell_type": "markdown",
   "metadata": {
    "id": "zNvnWiStLMT4"
   },
   "source": [
    "## Load data"
   ]
  },
  {
   "cell_type": "code",
   "execution_count": 3,
   "metadata": {
    "colab": {
     "base_uri": "https://localhost:8080/",
     "height": 50
    },
    "executionInfo": {
     "elapsed": 4689,
     "status": "ok",
     "timestamp": 1555809124644,
     "user": {
      "displayName": "Vivek Kumar",
      "photoUrl": "https://lh6.googleusercontent.com/-cP-Bpvpzsbc/AAAAAAAAAAI/AAAAAAAAD78/l6XcNlPEAnc/s64/photo.jpg",
      "userId": "15067720337527944902"
     },
     "user_tz": -330
    },
    "id": "Z1EBPLhVNnZO",
    "outputId": "8cbe010c-4d26-4021-c725-73350fe14cb3"
   },
   "outputs": [
    {
     "name": "stdout",
     "output_type": "stream",
     "text": [
      "The dataset has 215 samples with 15 features.\n"
     ]
    }
   ],
   "source": [
    "## Files\n",
    "data_file = './data/Placement_Data_Full_Class.csv'\n",
    "\n",
    "# Load train loan dataset \n",
    "try:\n",
    "    data = pd.read_csv(data_file)\n",
    "    print(\"The dataset has {} samples with {} features.\".format(*data.shape))\n",
    "except:\n",
    "    print(\"The dataset could not be loaded. Is the dataset missing?\")"
   ]
  },
  {
   "cell_type": "markdown",
   "metadata": {
    "id": "THxhQRYOOxkZ"
   },
   "source": [
    "## Introduction To The Data"
   ]
  },
  {
   "cell_type": "code",
   "execution_count": 4,
   "metadata": {
    "colab": {
     "base_uri": "https://localhost:8080/",
     "height": 246
    },
    "executionInfo": {
     "elapsed": 2730,
     "status": "ok",
     "timestamp": 1555756161637,
     "user": {
      "displayName": "Vivek Kumar",
      "photoUrl": "https://lh6.googleusercontent.com/-cP-Bpvpzsbc/AAAAAAAAAAI/AAAAAAAAD78/l6XcNlPEAnc/s64/photo.jpg",
      "userId": "15067720337527944902"
     },
     "user_tz": -330
    },
    "id": "ImRdfUXusm7O",
    "outputId": "bcae0e64-9146-4df1-d98a-5f2c42c05789"
   },
   "outputs": [
    {
     "data": {
      "text/html": [
       "<div>\n",
       "<style scoped>\n",
       "    .dataframe tbody tr th:only-of-type {\n",
       "        vertical-align: middle;\n",
       "    }\n",
       "\n",
       "    .dataframe tbody tr th {\n",
       "        vertical-align: top;\n",
       "    }\n",
       "\n",
       "    .dataframe thead th {\n",
       "        text-align: right;\n",
       "    }\n",
       "</style>\n",
       "<table border=\"1\" class=\"dataframe\">\n",
       "  <thead>\n",
       "    <tr style=\"text-align: right;\">\n",
       "      <th></th>\n",
       "      <th>sl_no</th>\n",
       "      <th>gender</th>\n",
       "      <th>ssc_p</th>\n",
       "      <th>ssc_b</th>\n",
       "      <th>hsc_p</th>\n",
       "      <th>hsc_b</th>\n",
       "      <th>hsc_s</th>\n",
       "      <th>degree_p</th>\n",
       "      <th>degree_t</th>\n",
       "      <th>workex</th>\n",
       "      <th>etest_p</th>\n",
       "      <th>specialisation</th>\n",
       "      <th>mba_p</th>\n",
       "      <th>status</th>\n",
       "      <th>salary</th>\n",
       "    </tr>\n",
       "  </thead>\n",
       "  <tbody>\n",
       "    <tr>\n",
       "      <th>0</th>\n",
       "      <td>1</td>\n",
       "      <td>M</td>\n",
       "      <td>67.00</td>\n",
       "      <td>Others</td>\n",
       "      <td>91.00</td>\n",
       "      <td>Others</td>\n",
       "      <td>Commerce</td>\n",
       "      <td>58.00</td>\n",
       "      <td>Sci&amp;Tech</td>\n",
       "      <td>No</td>\n",
       "      <td>55.0</td>\n",
       "      <td>Mkt&amp;HR</td>\n",
       "      <td>58.80</td>\n",
       "      <td>Placed</td>\n",
       "      <td>270000.0</td>\n",
       "    </tr>\n",
       "    <tr>\n",
       "      <th>1</th>\n",
       "      <td>2</td>\n",
       "      <td>M</td>\n",
       "      <td>79.33</td>\n",
       "      <td>Central</td>\n",
       "      <td>78.33</td>\n",
       "      <td>Others</td>\n",
       "      <td>Science</td>\n",
       "      <td>77.48</td>\n",
       "      <td>Sci&amp;Tech</td>\n",
       "      <td>Yes</td>\n",
       "      <td>86.5</td>\n",
       "      <td>Mkt&amp;Fin</td>\n",
       "      <td>66.28</td>\n",
       "      <td>Placed</td>\n",
       "      <td>200000.0</td>\n",
       "    </tr>\n",
       "    <tr>\n",
       "      <th>2</th>\n",
       "      <td>3</td>\n",
       "      <td>M</td>\n",
       "      <td>65.00</td>\n",
       "      <td>Central</td>\n",
       "      <td>68.00</td>\n",
       "      <td>Central</td>\n",
       "      <td>Arts</td>\n",
       "      <td>64.00</td>\n",
       "      <td>Comm&amp;Mgmt</td>\n",
       "      <td>No</td>\n",
       "      <td>75.0</td>\n",
       "      <td>Mkt&amp;Fin</td>\n",
       "      <td>57.80</td>\n",
       "      <td>Placed</td>\n",
       "      <td>250000.0</td>\n",
       "    </tr>\n",
       "    <tr>\n",
       "      <th>3</th>\n",
       "      <td>4</td>\n",
       "      <td>M</td>\n",
       "      <td>56.00</td>\n",
       "      <td>Central</td>\n",
       "      <td>52.00</td>\n",
       "      <td>Central</td>\n",
       "      <td>Science</td>\n",
       "      <td>52.00</td>\n",
       "      <td>Sci&amp;Tech</td>\n",
       "      <td>No</td>\n",
       "      <td>66.0</td>\n",
       "      <td>Mkt&amp;HR</td>\n",
       "      <td>59.43</td>\n",
       "      <td>Not Placed</td>\n",
       "      <td>NaN</td>\n",
       "    </tr>\n",
       "    <tr>\n",
       "      <th>4</th>\n",
       "      <td>5</td>\n",
       "      <td>M</td>\n",
       "      <td>85.80</td>\n",
       "      <td>Central</td>\n",
       "      <td>73.60</td>\n",
       "      <td>Central</td>\n",
       "      <td>Commerce</td>\n",
       "      <td>73.30</td>\n",
       "      <td>Comm&amp;Mgmt</td>\n",
       "      <td>No</td>\n",
       "      <td>96.8</td>\n",
       "      <td>Mkt&amp;Fin</td>\n",
       "      <td>55.50</td>\n",
       "      <td>Placed</td>\n",
       "      <td>425000.0</td>\n",
       "    </tr>\n",
       "  </tbody>\n",
       "</table>\n",
       "</div>"
      ],
      "text/plain": [
       "   sl_no gender  ssc_p    ssc_b  hsc_p    hsc_b     hsc_s  degree_p  \\\n",
       "0      1      M  67.00   Others  91.00   Others  Commerce     58.00   \n",
       "1      2      M  79.33  Central  78.33   Others   Science     77.48   \n",
       "2      3      M  65.00  Central  68.00  Central      Arts     64.00   \n",
       "3      4      M  56.00  Central  52.00  Central   Science     52.00   \n",
       "4      5      M  85.80  Central  73.60  Central  Commerce     73.30   \n",
       "\n",
       "    degree_t workex  etest_p specialisation  mba_p      status    salary  \n",
       "0   Sci&Tech     No     55.0         Mkt&HR  58.80      Placed  270000.0  \n",
       "1   Sci&Tech    Yes     86.5        Mkt&Fin  66.28      Placed  200000.0  \n",
       "2  Comm&Mgmt     No     75.0        Mkt&Fin  57.80      Placed  250000.0  \n",
       "3   Sci&Tech     No     66.0         Mkt&HR  59.43  Not Placed       NaN  \n",
       "4  Comm&Mgmt     No     96.8        Mkt&Fin  55.50      Placed  425000.0  "
      ]
     },
     "execution_count": 4,
     "metadata": {},
     "output_type": "execute_result"
    }
   ],
   "source": [
    "data.head()"
   ]
  },
  {
   "cell_type": "markdown",
   "metadata": {},
   "source": [
    "## Prepare data for model training"
   ]
  },
  {
   "cell_type": "code",
   "execution_count": 5,
   "metadata": {},
   "outputs": [],
   "source": [
    "exclude_feature = ['sl_no', 'salary', 'status']\n",
    "# Define Target columns\n",
    "target = data['status'].map({\"Placed\": 0 , \"Not Placed\": 1})\n",
    "\n",
    "# Define numeric and categorical features\n",
    "numeric_columns = data.select_dtypes(include=['int64', 'float64']).columns.tolist()\n",
    "categorical_columns = data.select_dtypes(include=['object']).columns.tolist()\n",
    "numeric_features = [col for col in numeric_columns if col not in exclude_feature]\n",
    "categorical_features = [col for col in categorical_columns if col not in exclude_feature]\n",
    "\n",
    "# Define final feature list for training and validation\n",
    "features = numeric_features + categorical_features\n",
    "# Final data for training and validation\n",
    "data = data[features]\n",
    "data = data.fillna(0)\n",
    "\n",
    "# Split data in train and vlaidation\n",
    "X_train, X_valid, y_train, y_valid = train_test_split(data, target, test_size=0.15, random_state=10)\n",
    "X_valid.to_json(path_or_buf='./data/valid.json', orient='records', lines=True)\n",
    "\n",
    "# Perform label encoding for categorical variable\n",
    "le = OrdinalEncoder(cols=categorical_features)\n",
    "le.fit(X_train[categorical_features])\n",
    "X_train[categorical_features] = le.transform(X_train[categorical_features])\n",
    "X_valid[categorical_features] = le.transform(X_valid[categorical_features])"
   ]
  },
  {
   "cell_type": "markdown",
   "metadata": {},
   "source": [
    "## Train and evaluate model"
   ]
  },
  {
   "cell_type": "code",
   "execution_count": 6,
   "metadata": {},
   "outputs": [
    {
     "name": "stdout",
     "output_type": "stream",
     "text": [
      "=====================================\n",
      "Validation AUC:0.9135338345864662\n",
      "=====================================\n"
     ]
    }
   ],
   "source": [
    " # Perform model training\n",
    "clf = LGBMClassifier(random_state=10)\n",
    "clf.fit(X_train, y_train)\n",
    "\n",
    "# Perform model evaluation \n",
    "valid_prediction = clf.predict_proba(X_valid)[:, 1]\n",
    "fpr, tpr, thresholds = roc_curve(y_valid, valid_prediction)\n",
    "roc_auc = auc(fpr, tpr) # compute area under the curve\n",
    "print(\"=====================================\")\n",
    "print(\"Validation AUC:{}\".format(roc_auc))\n",
    "print(\"=====================================\")"
   ]
  },
  {
   "cell_type": "code",
   "execution_count": 7,
   "metadata": {},
   "outputs": [
    {
     "name": "stdout",
     "output_type": "stream",
     "text": [
      "              precision    recall  f1-score   support\n",
      "\n",
      "           0       0.75      0.95      0.84        19\n",
      "           1       0.89      0.57      0.70        14\n",
      "\n",
      "    accuracy                           0.79        33\n",
      "   macro avg       0.82      0.76      0.77        33\n",
      "weighted avg       0.81      0.79      0.78        33\n",
      "\n"
     ]
    }
   ],
   "source": [
    "# Perform model evaluation \n",
    "print(classification_report(y_valid,clf.predict(X_valid)))"
   ]
  },
  {
   "cell_type": "markdown",
   "metadata": {},
   "source": [
    "## Save model artifacts"
   ]
  },
  {
   "cell_type": "code",
   "execution_count": 9,
   "metadata": {},
   "outputs": [
    {
     "data": {
      "text/plain": [
       "['./model/categorical_features.joblib']"
      ]
     },
     "execution_count": 9,
     "metadata": {},
     "output_type": "execute_result"
    }
   ],
   "source": [
    "joblib.dump(le, './model/label_encoder.joblib')\n",
    "joblib.dump(clf, './model/lgb_model.joblib')\n",
    "joblib.dump(features, './model/features.joblib')\n",
    "joblib.dump(categorical_features, './model/categorical_features.joblib')"
   ]
  },
  {
   "cell_type": "code",
   "execution_count": null,
   "metadata": {},
   "outputs": [],
   "source": []
  }
 ],
 "metadata": {
  "kernelspec": {
   "display_name": "Python 3",
   "language": "python",
   "name": "python3"
  },
  "language_info": {
   "codemirror_mode": {
    "name": "ipython",
    "version": 3
   },
   "file_extension": ".py",
   "mimetype": "text/x-python",
   "name": "python",
   "nbconvert_exporter": "python",
   "pygments_lexer": "ipython3",
   "version": "3.8.10"
  }
 },
 "nbformat": 4,
 "nbformat_minor": 4
}
