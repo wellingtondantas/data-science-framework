{
 "cells": [
  {
   "cell_type": "markdown",
   "metadata": {},
   "source": [
    "# Install in Ubuntu\n",
    "\n",
    "* sudo apt-get install python3-dev \n",
    "* sudo apt-get install gcc\n",
    "\n",
    "# Install Docker and give dameon access\n",
    "* sudo apt-get install docker.io\n",
    "* sudo chmod 777 /var/run/docker.sock\n",
    "\n",
    "# Create Docker Hub account\n",
    "Create an account in docker hub - This will be used as a public docker repository \n",
    "* https://hub.docker.com\n",
    "\n",
    "# Provide Docker hub login credential using command line\n",
    "* docker login\n",
    "\n",
    "# Set up your python environment\n",
    "\n",
    "* Go the training script/notebook folder\n",
    "* Create Conda environment : Run below command\n",
    "\n",
    "    conda create -n fastapi-deployment python=3.8.5\n",
    "    \n",
    "* Activate your virtual environment\n",
    "\n",
    "    conda activate fastapi-deployment\n",
    "\n",
    "* Install all the packages in your environment\n",
    "\n",
    "    pip install -r requirements.txt\n",
    "    \n",
    "* Create kernel \n",
    "\n",
    "    python -m ipykernel install --user --name fastapi --display-name fastapi-kernel\n",
    "    \n",
    "* Launch Jupyter notebook\n",
    "\n",
    "    jupyter lab\n",
    "    \n",
    "* Connect jupyter to kernel fastapi-kernel"
   ]
  },
  {
   "cell_type": "code",
   "execution_count": null,
   "metadata": {},
   "outputs": [],
   "source": []
  }
 ],
 "metadata": {
  "kernelspec": {
   "display_name": "fastapi-kernel",
   "language": "python",
   "name": "fastapi"
  },
  "language_info": {
   "codemirror_mode": {
    "name": "ipython",
    "version": 3
   },
   "file_extension": ".py",
   "mimetype": "text/x-python",
   "name": "python",
   "nbconvert_exporter": "python",
   "pygments_lexer": "ipython3",
   "version": "3.8.5"
  }
 },
 "nbformat": 4,
 "nbformat_minor": 4
}
